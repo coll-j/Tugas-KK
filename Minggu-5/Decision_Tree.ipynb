{
  "nbformat": 4,
  "nbformat_minor": 0,
  "metadata": {
    "kernelspec": {
      "display_name": "Python 3",
      "language": "python",
      "name": "python3"
    },
    "language_info": {
      "codemirror_mode": {
        "name": "ipython",
        "version": 3
      },
      "file_extension": ".py",
      "mimetype": "text/x-python",
      "name": "python",
      "nbconvert_exporter": "python",
      "pygments_lexer": "ipython3",
      "version": "3.6.12"
    },
    "colab": {
      "name": "Decision_Tree.ipynb",
      "provenance": []
    }
  },
  "cells": [
    {
      "cell_type": "markdown",
      "metadata": {
        "id": "lWZBjunxBJgY"
      },
      "source": [
        "# Setup"
      ]
    },
    {
      "cell_type": "code",
      "metadata": {
        "id": "JNz29X78NXtO",
        "outputId": "c63389c7-6aa1-4528-f906-9e540ab4501a",
        "colab": {
          "base_uri": "https://localhost:8080/"
        }
      },
      "source": [
        "!wget https://raw.githubusercontent.com/coll-j/Tugas-KK/master/Minggu-5/dataset-car-40-row.csv"
      ],
      "execution_count": 2,
      "outputs": [
        {
          "output_type": "stream",
          "text": [
            "--2020-11-03 02:41:23--  https://raw.githubusercontent.com/coll-j/Tugas-KK/master/Minggu-5/dataset-car-40-row.csv\n",
            "Resolving raw.githubusercontent.com (raw.githubusercontent.com)... 151.101.0.133, 151.101.64.133, 151.101.128.133, ...\n",
            "Connecting to raw.githubusercontent.com (raw.githubusercontent.com)|151.101.0.133|:443... connected.\n",
            "HTTP request sent, awaiting response... 200 OK\n",
            "Length: 4628 (4.5K) [text/plain]\n",
            "Saving to: ‘dataset-car-40-row.csv’\n",
            "\n",
            "dataset-car-40-row. 100%[===================>]   4.52K  --.-KB/s    in 0s      \n",
            "\n",
            "2020-11-03 02:41:23 (32.6 MB/s) - ‘dataset-car-40-row.csv’ saved [4628/4628]\n",
            "\n"
          ],
          "name": "stdout"
        }
      ]
    },
    {
      "cell_type": "markdown",
      "metadata": {
        "id": "o6bVBKM4BLXU"
      },
      "source": [
        "## Import Libraries"
      ]
    },
    {
      "cell_type": "code",
      "metadata": {
        "id": "U__zdpBFLqN2"
      },
      "source": [
        "import pandas as pd\n",
        "import numpy as np\n",
        "from sklearn.feature_selection import SelectKBest\n",
        "from sklearn.feature_selection import mutual_info_classif\n",
        "from functools import partial\n",
        "from sklearn.preprocessing import OrdinalEncoder\n",
        "from sklearn.model_selection import train_test_split\n",
        "import random"
      ],
      "execution_count": 3,
      "outputs": []
    },
    {
      "cell_type": "markdown",
      "metadata": {
        "id": "2YrXF_hvBN9G"
      },
      "source": [
        "## Read Dataset\n",
        "\n",
        "Dataset cars 40 baris"
      ]
    },
    {
      "cell_type": "code",
      "metadata": {
        "id": "2SigZ0E3LqN8",
        "outputId": "f80fdb2f-5d48-4105-813a-63b6fa13c707",
        "colab": {
          "base_uri": "https://localhost:8080/",
          "height": 306
        }
      },
      "source": [
        "df = pd.read_csv('dataset-car-40-row.csv', sep=';')\n",
        "df.head()"
      ],
      "execution_count": 4,
      "outputs": [
        {
          "output_type": "execute_result",
          "data": {
            "text/html": [
              "<div>\n",
              "<style scoped>\n",
              "    .dataframe tbody tr th:only-of-type {\n",
              "        vertical-align: middle;\n",
              "    }\n",
              "\n",
              "    .dataframe tbody tr th {\n",
              "        vertical-align: top;\n",
              "    }\n",
              "\n",
              "    .dataframe thead th {\n",
              "        text-align: right;\n",
              "    }\n",
              "</style>\n",
              "<table border=\"1\" class=\"dataframe\">\n",
              "  <thead>\n",
              "    <tr style=\"text-align: right;\">\n",
              "      <th></th>\n",
              "      <th>Make</th>\n",
              "      <th>Year</th>\n",
              "      <th>Engine Fuel Type</th>\n",
              "      <th>Engine HP</th>\n",
              "      <th>Engine Cylinders</th>\n",
              "      <th>Transmission Type</th>\n",
              "      <th>Driven_Wheels</th>\n",
              "      <th>Number of Doors</th>\n",
              "      <th>Market Category</th>\n",
              "      <th>Vehicle Size</th>\n",
              "      <th>Vehicle Style</th>\n",
              "      <th>highway MPG</th>\n",
              "      <th>city mpg</th>\n",
              "      <th>Popularity</th>\n",
              "      <th>MSRP</th>\n",
              "    </tr>\n",
              "  </thead>\n",
              "  <tbody>\n",
              "    <tr>\n",
              "      <th>0</th>\n",
              "      <td>Audi</td>\n",
              "      <td>Old</td>\n",
              "      <td>regular unleaded</td>\n",
              "      <td>Low</td>\n",
              "      <td>6</td>\n",
              "      <td>MANUAL</td>\n",
              "      <td>front wheel drive</td>\n",
              "      <td>4</td>\n",
              "      <td>Luxury</td>\n",
              "      <td>Midsize</td>\n",
              "      <td>Sedan</td>\n",
              "      <td>Low</td>\n",
              "      <td>Low</td>\n",
              "      <td>High</td>\n",
              "      <td>Cheap</td>\n",
              "    </tr>\n",
              "    <tr>\n",
              "      <th>1</th>\n",
              "      <td>Audi</td>\n",
              "      <td>Old</td>\n",
              "      <td>regular unleaded</td>\n",
              "      <td>Low</td>\n",
              "      <td>6</td>\n",
              "      <td>MANUAL</td>\n",
              "      <td>front wheel drive</td>\n",
              "      <td>4</td>\n",
              "      <td>Luxury</td>\n",
              "      <td>Midsize</td>\n",
              "      <td>Sedan</td>\n",
              "      <td>Low</td>\n",
              "      <td>Low</td>\n",
              "      <td>High</td>\n",
              "      <td>Cheap</td>\n",
              "    </tr>\n",
              "    <tr>\n",
              "      <th>2</th>\n",
              "      <td>Audi</td>\n",
              "      <td>Old</td>\n",
              "      <td>regular unleaded</td>\n",
              "      <td>Low</td>\n",
              "      <td>6</td>\n",
              "      <td>AUTOMATIC</td>\n",
              "      <td>all wheel drive</td>\n",
              "      <td>4</td>\n",
              "      <td>Luxury</td>\n",
              "      <td>Midsize</td>\n",
              "      <td>Wagon</td>\n",
              "      <td>Low</td>\n",
              "      <td>Low</td>\n",
              "      <td>High</td>\n",
              "      <td>Cheap</td>\n",
              "    </tr>\n",
              "    <tr>\n",
              "      <th>3</th>\n",
              "      <td>Audi</td>\n",
              "      <td>Old</td>\n",
              "      <td>regular unleaded</td>\n",
              "      <td>Low</td>\n",
              "      <td>6</td>\n",
              "      <td>AUTOMATIC</td>\n",
              "      <td>front wheel drive</td>\n",
              "      <td>4</td>\n",
              "      <td>Luxury</td>\n",
              "      <td>Midsize</td>\n",
              "      <td>Sedan</td>\n",
              "      <td>Low</td>\n",
              "      <td>Low</td>\n",
              "      <td>High</td>\n",
              "      <td>Cheap</td>\n",
              "    </tr>\n",
              "    <tr>\n",
              "      <th>4</th>\n",
              "      <td>Audi</td>\n",
              "      <td>New</td>\n",
              "      <td>diesel</td>\n",
              "      <td>Low</td>\n",
              "      <td>4</td>\n",
              "      <td>AUTOMATIC</td>\n",
              "      <td>front wheel drive</td>\n",
              "      <td>4</td>\n",
              "      <td>Luxury</td>\n",
              "      <td>Compact</td>\n",
              "      <td>Sedan</td>\n",
              "      <td>High</td>\n",
              "      <td>High</td>\n",
              "      <td>High</td>\n",
              "      <td>Cheap</td>\n",
              "    </tr>\n",
              "  </tbody>\n",
              "</table>\n",
              "</div>"
            ],
            "text/plain": [
              "   Make Year  Engine Fuel Type Engine HP  ...  highway MPG city mpg Popularity   MSRP\n",
              "0  Audi  Old  regular unleaded       Low  ...          Low      Low       High  Cheap\n",
              "1  Audi  Old  regular unleaded       Low  ...          Low      Low       High  Cheap\n",
              "2  Audi  Old  regular unleaded       Low  ...          Low      Low       High  Cheap\n",
              "3  Audi  Old  regular unleaded       Low  ...          Low      Low       High  Cheap\n",
              "4  Audi  New            diesel       Low  ...         High     High       High  Cheap\n",
              "\n",
              "[5 rows x 15 columns]"
            ]
          },
          "metadata": {
            "tags": []
          },
          "execution_count": 4
        }
      ]
    },
    {
      "cell_type": "markdown",
      "metadata": {
        "id": "vJ-9mSsBA6uo"
      },
      "source": [
        "# Function Definitions"
      ]
    },
    {
      "cell_type": "markdown",
      "metadata": {
        "id": "j20YtDHFA9U0"
      },
      "source": [
        "## Calculate Entropy"
      ]
    },
    {
      "cell_type": "code",
      "metadata": {
        "id": "zzZJYjmsLqOB"
      },
      "source": [
        "# Define the calculate entropy function\n",
        "def calculate_entropy(df_label):\n",
        "    classes,class_counts = np.unique(df_label,return_counts = True)\n",
        "    entropy_value = np.sum([(-class_counts[i]/np.sum(class_counts))*np.log2(class_counts[i]/np.sum(class_counts)) \n",
        "                        for i in range(len(classes))])\n",
        "    return entropy_value"
      ],
      "execution_count": 5,
      "outputs": []
    },
    {
      "cell_type": "markdown",
      "metadata": {
        "id": "Arv880P_A_jS"
      },
      "source": [
        "## Calculate Information Gain"
      ]
    },
    {
      "cell_type": "code",
      "metadata": {
        "id": "8dv0hpXDLqOG"
      },
      "source": [
        "# Define the calculate information gain function\n",
        "def calculate_information_gain(dataset,feature,label): \n",
        "    # Calculate the dataset entropy\n",
        "    dataset_entropy = calculate_entropy(dataset[label])   \n",
        "    values,feat_counts= np.unique(dataset[feature],return_counts=True)\n",
        "    \n",
        "    # Calculate the weighted feature entropy                                # Call the calculate_entropy function\n",
        "    weighted_feature_entropy = np.sum([(feat_counts[i]/np.sum(feat_counts))*calculate_entropy(dataset.where(dataset[feature]\n",
        "                              ==values[i]).dropna()[label]) for i in range(len(values))])    \n",
        "    feature_info_gain = dataset_entropy - weighted_feature_entropy\n",
        "    return feature_info_gain"
      ],
      "execution_count": 6,
      "outputs": []
    },
    {
      "cell_type": "markdown",
      "metadata": {
        "id": "g1Vmm76-BCo4"
      },
      "source": [
        "## Create Decision Tree"
      ]
    },
    {
      "cell_type": "code",
      "metadata": {
        "id": "D6LHCfX7LqOL"
      },
      "source": [
        "# Define the create decision tree function\n",
        "def create_decision_tree(dataset, df, features, label, parent):\n",
        "    \n",
        "    datum = np.unique(df[label], return_counts = True)\n",
        "    unique_data = np.unique(dataset[label])\n",
        "    # print('len features', len(features))\n",
        "    if len(unique_data) <= 1:\n",
        "        return unique_data[0]\n",
        "    \n",
        "    elif len(dataset) == 0:\n",
        "        return unique_data[np.argmax(datum[1])]\n",
        "    \n",
        "    elif len(features) == 0:\n",
        "        return parent\n",
        "    \n",
        "    else:\n",
        "        parent = unique_data[np.argmax(datum[1])]\n",
        "        \n",
        "        item_values = [calculate_information_gain(dataset, feature, label) for feature in features]\n",
        "        \n",
        "        optimum_feature_index = np.argmax(item_values)\n",
        "        optimum_feature = features[optimum_feature_index]\n",
        "        decision_tree = {optimum_feature:{}}\n",
        "        features = [i for i in features if i != optimum_feature]\n",
        "        \n",
        "        for value in np.unique(dataset[optimum_feature]):\n",
        "            min_data = dataset.where(dataset[optimum_feature] == value).dropna()\n",
        "            \n",
        "            min_tree = create_decision_tree(min_data, df, features, label, parent)\n",
        "            \n",
        "            decision_tree[optimum_feature][value] = min_tree\n",
        "        \n",
        "        return (decision_tree)"
      ],
      "execution_count": 7,
      "outputs": []
    },
    {
      "cell_type": "markdown",
      "metadata": {
        "id": "uhySMvzoBFtG"
      },
      "source": [
        "## Prediction functions"
      ]
    },
    {
      "cell_type": "code",
      "metadata": {
        "id": "Y_RCviuPLqOP"
      },
      "source": [
        "# Define the predict function\n",
        "def predict(test_data, decision_tree):\n",
        "    for nodes in decision_tree.keys():\n",
        "        value = test_data[nodes]\n",
        "        if value in decision_tree[nodes].keys():\n",
        "          decision_tree = decision_tree[nodes][value]\n",
        "        else:\n",
        "          decision_tree = decision_tree[nodes][random.choice(list(decision_tree[nodes].keys()))]\n",
        "        \n",
        "        prediction = 0\n",
        "        if type(decision_tree) is dict:\n",
        "            prediction = predict(test_data, decision_tree)\n",
        "        else:\n",
        "            prediction = decision_tree\n",
        "            break\n",
        "            \n",
        "    return prediction"
      ],
      "execution_count": 8,
      "outputs": []
    },
    {
      "cell_type": "code",
      "metadata": {
        "id": "GeiMmWofc63k"
      },
      "source": [
        "def predict_multiple(input, decision_tree, print_each=False):\n",
        "  predictions = []\n",
        "  for i in range(len(input)):\n",
        "\n",
        "    prediction = predict(input.iloc[i, :], decision_tree)\n",
        "    predictions.append(prediction)\n",
        "\n",
        "    if print_each:\n",
        "      print('Input Data: ')\n",
        "      print(input.iloc[i, :])\n",
        "      \n",
        "      print('Prediction: ')\n",
        "      print(prediction)\n",
        "      print()\n",
        "\n",
        "  return predictions"
      ],
      "execution_count": 9,
      "outputs": []
    },
    {
      "cell_type": "markdown",
      "metadata": {
        "id": "7FxNArxeBVZG"
      },
      "source": [
        "# Feature Selection"
      ]
    },
    {
      "cell_type": "code",
      "metadata": {
        "id": "4FSX7lGqRlxP"
      },
      "source": [
        "oe = OrdinalEncoder()\n",
        "X_enc = df.drop('MSRP', axis=1)\n",
        "X_enc = oe.fit_transform(X_enc)\n",
        "y = df.iloc[:, -1]"
      ],
      "execution_count": 10,
      "outputs": []
    },
    {
      "cell_type": "code",
      "metadata": {
        "id": "kuH39XwDtvBM",
        "outputId": "c70fd7b9-8077-4e47-ae50-bc9550ccb814",
        "colab": {
          "base_uri": "https://localhost:8080/"
        }
      },
      "source": [
        "discrete_feat_idx = [i for i in range(14)]\n",
        "print(discrete_feat_idx)\n",
        "bestfeatures = SelectKBest(partial(mutual_info_classif, discrete_features=discrete_feat_idx), k='all')\n",
        "fit = bestfeatures.fit(X_enc, y)\n",
        "dfscores = pd.DataFrame(fit.scores_)\n",
        "dfcolumns = pd.DataFrame(df.columns[:-1])\n",
        "#concat two dataframes for better visualization \n",
        "featureScores = pd.concat([dfcolumns,dfscores],axis=1)\n",
        "featureScores.columns = ['Specs','Score']  #naming the dataframe columns\n",
        "print(featureScores.nlargest(4,'Score'))  #print 10 best features"
      ],
      "execution_count": 11,
      "outputs": [
        {
          "output_type": "stream",
          "text": [
            "[0, 1, 2, 3, 4, 5, 6, 7, 8, 9, 10, 11, 12, 13]\n",
            "              Specs     Score\n",
            "0              Make  0.392889\n",
            "3         Engine HP  0.392769\n",
            "1              Year  0.239931\n",
            "2  Engine Fuel Type  0.214667\n"
          ],
          "name": "stdout"
        }
      ]
    },
    {
      "cell_type": "markdown",
      "metadata": {
        "id": "-wJBO2RPBhKC"
      },
      "source": [
        "Selected features based on scores and p-value\n",
        "- Make\n",
        "- Engine HP\n",
        "- Year\n",
        "- Engine Fuel Type"
      ]
    },
    {
      "cell_type": "code",
      "metadata": {
        "id": "Kzn8nuHfLqOT",
        "outputId": "77e2da6e-6794-420a-8800-f9f0d1a1e686",
        "colab": {
          "base_uri": "https://localhost:8080/"
        }
      },
      "source": [
        "# Set the features and label\n",
        "features = ['Make', 'Engine HP', 'Year', 'Engine Fuel Type']\n",
        "label = 'MSRP'\n",
        "parent=None\n",
        "df_train, df_test = train_test_split(df, test_size=0.25, random_state=42)\n",
        "len(df_train)"
      ],
      "execution_count": 12,
      "outputs": [
        {
          "output_type": "execute_result",
          "data": {
            "text/plain": [
              "30"
            ]
          },
          "metadata": {
            "tags": []
          },
          "execution_count": 12
        }
      ]
    },
    {
      "cell_type": "code",
      "metadata": {
        "id": "3Sm9kbfYnAOc",
        "outputId": "348d150d-754e-4dc0-ae94-1c81f1e76115",
        "colab": {
          "base_uri": "https://localhost:8080/",
          "height": 563
        }
      },
      "source": [
        "df_train.head(n=10)"
      ],
      "execution_count": 13,
      "outputs": [
        {
          "output_type": "execute_result",
          "data": {
            "text/html": [
              "<div>\n",
              "<style scoped>\n",
              "    .dataframe tbody tr th:only-of-type {\n",
              "        vertical-align: middle;\n",
              "    }\n",
              "\n",
              "    .dataframe tbody tr th {\n",
              "        vertical-align: top;\n",
              "    }\n",
              "\n",
              "    .dataframe thead th {\n",
              "        text-align: right;\n",
              "    }\n",
              "</style>\n",
              "<table border=\"1\" class=\"dataframe\">\n",
              "  <thead>\n",
              "    <tr style=\"text-align: right;\">\n",
              "      <th></th>\n",
              "      <th>Make</th>\n",
              "      <th>Year</th>\n",
              "      <th>Engine Fuel Type</th>\n",
              "      <th>Engine HP</th>\n",
              "      <th>Engine Cylinders</th>\n",
              "      <th>Transmission Type</th>\n",
              "      <th>Driven_Wheels</th>\n",
              "      <th>Number of Doors</th>\n",
              "      <th>Market Category</th>\n",
              "      <th>Vehicle Size</th>\n",
              "      <th>Vehicle Style</th>\n",
              "      <th>highway MPG</th>\n",
              "      <th>city mpg</th>\n",
              "      <th>Popularity</th>\n",
              "      <th>MSRP</th>\n",
              "    </tr>\n",
              "  </thead>\n",
              "  <tbody>\n",
              "    <tr>\n",
              "      <th>25</th>\n",
              "      <td>Mercedes-Benz</td>\n",
              "      <td>Old</td>\n",
              "      <td>regular unleaded</td>\n",
              "      <td>Low</td>\n",
              "      <td>4</td>\n",
              "      <td>MANUAL</td>\n",
              "      <td>rear wheel drive</td>\n",
              "      <td>4</td>\n",
              "      <td>Luxury</td>\n",
              "      <td>Compact</td>\n",
              "      <td>Sedan</td>\n",
              "      <td>Medium</td>\n",
              "      <td>Low</td>\n",
              "      <td>Low</td>\n",
              "      <td>Cheap</td>\n",
              "    </tr>\n",
              "    <tr>\n",
              "      <th>9</th>\n",
              "      <td>BMW</td>\n",
              "      <td>New</td>\n",
              "      <td>premium unleaded</td>\n",
              "      <td>High</td>\n",
              "      <td>6</td>\n",
              "      <td>MANUAL</td>\n",
              "      <td>rear wheel drive</td>\n",
              "      <td>2</td>\n",
              "      <td>Luxury</td>\n",
              "      <td>Compact</td>\n",
              "      <td>Coupe</td>\n",
              "      <td>Medium</td>\n",
              "      <td>Medium</td>\n",
              "      <td>High</td>\n",
              "      <td>Expensive</td>\n",
              "    </tr>\n",
              "    <tr>\n",
              "      <th>13</th>\n",
              "      <td>BMW</td>\n",
              "      <td>New</td>\n",
              "      <td>premium unleaded</td>\n",
              "      <td>Medium</td>\n",
              "      <td>4</td>\n",
              "      <td>AUTOMATIC</td>\n",
              "      <td>all wheel drive</td>\n",
              "      <td>2</td>\n",
              "      <td>Luxury</td>\n",
              "      <td>Compact</td>\n",
              "      <td>Convertible</td>\n",
              "      <td>Medium</td>\n",
              "      <td>Medium</td>\n",
              "      <td>High</td>\n",
              "      <td>Expensive</td>\n",
              "    </tr>\n",
              "    <tr>\n",
              "      <th>31</th>\n",
              "      <td>Mercedes-Benz</td>\n",
              "      <td>Old</td>\n",
              "      <td>regular unleaded</td>\n",
              "      <td>Medium</td>\n",
              "      <td>6</td>\n",
              "      <td>AUTOMATIC</td>\n",
              "      <td>rear wheel drive</td>\n",
              "      <td>4</td>\n",
              "      <td>Luxury</td>\n",
              "      <td>Large</td>\n",
              "      <td>Sedan</td>\n",
              "      <td>Low</td>\n",
              "      <td>Low</td>\n",
              "      <td>Low</td>\n",
              "      <td>Cheap</td>\n",
              "    </tr>\n",
              "    <tr>\n",
              "      <th>34</th>\n",
              "      <td>Nissan</td>\n",
              "      <td>New</td>\n",
              "      <td>regular unleaded</td>\n",
              "      <td>High</td>\n",
              "      <td>6</td>\n",
              "      <td>AUTOMATIC</td>\n",
              "      <td>rear wheel drive</td>\n",
              "      <td>2</td>\n",
              "      <td>High-Performance</td>\n",
              "      <td>Compact</td>\n",
              "      <td>Convertible</td>\n",
              "      <td>Low</td>\n",
              "      <td>Low</td>\n",
              "      <td>Medium</td>\n",
              "      <td>Expensive</td>\n",
              "    </tr>\n",
              "    <tr>\n",
              "      <th>8</th>\n",
              "      <td>BMW</td>\n",
              "      <td>New</td>\n",
              "      <td>premium unleaded</td>\n",
              "      <td>High</td>\n",
              "      <td>6</td>\n",
              "      <td>MANUAL</td>\n",
              "      <td>rear wheel drive</td>\n",
              "      <td>2</td>\n",
              "      <td>Luxury</td>\n",
              "      <td>Compact</td>\n",
              "      <td>Convertible</td>\n",
              "      <td>Low</td>\n",
              "      <td>Low</td>\n",
              "      <td>High</td>\n",
              "      <td>Expensive</td>\n",
              "    </tr>\n",
              "    <tr>\n",
              "      <th>17</th>\n",
              "      <td>Chrysler</td>\n",
              "      <td>New</td>\n",
              "      <td>regular unleaded</td>\n",
              "      <td>High</td>\n",
              "      <td>6</td>\n",
              "      <td>AUTOMATIC</td>\n",
              "      <td>rear wheel drive</td>\n",
              "      <td>4</td>\n",
              "      <td>High-Performance</td>\n",
              "      <td>Large</td>\n",
              "      <td>Sedan</td>\n",
              "      <td>Medium</td>\n",
              "      <td>Low</td>\n",
              "      <td>Low</td>\n",
              "      <td>Expensive</td>\n",
              "    </tr>\n",
              "    <tr>\n",
              "      <th>24</th>\n",
              "      <td>Mercedes-Benz</td>\n",
              "      <td>Old</td>\n",
              "      <td>diesel</td>\n",
              "      <td>Low</td>\n",
              "      <td>5</td>\n",
              "      <td>AUTOMATIC</td>\n",
              "      <td>rear wheel drive</td>\n",
              "      <td>4</td>\n",
              "      <td>Luxury</td>\n",
              "      <td>Midsize</td>\n",
              "      <td>Sedan</td>\n",
              "      <td>Medium</td>\n",
              "      <td>Medium</td>\n",
              "      <td>Low</td>\n",
              "      <td>Cheap</td>\n",
              "    </tr>\n",
              "    <tr>\n",
              "      <th>0</th>\n",
              "      <td>Audi</td>\n",
              "      <td>Old</td>\n",
              "      <td>regular unleaded</td>\n",
              "      <td>Low</td>\n",
              "      <td>6</td>\n",
              "      <td>MANUAL</td>\n",
              "      <td>front wheel drive</td>\n",
              "      <td>4</td>\n",
              "      <td>Luxury</td>\n",
              "      <td>Midsize</td>\n",
              "      <td>Sedan</td>\n",
              "      <td>Low</td>\n",
              "      <td>Low</td>\n",
              "      <td>High</td>\n",
              "      <td>Cheap</td>\n",
              "    </tr>\n",
              "    <tr>\n",
              "      <th>33</th>\n",
              "      <td>Nissan</td>\n",
              "      <td>Old</td>\n",
              "      <td>regular unleaded</td>\n",
              "      <td>Low</td>\n",
              "      <td>4</td>\n",
              "      <td>MANUAL</td>\n",
              "      <td>rear wheel drive</td>\n",
              "      <td>2</td>\n",
              "      <td>Performance</td>\n",
              "      <td>Compact</td>\n",
              "      <td>Coupe</td>\n",
              "      <td>Low</td>\n",
              "      <td>Medium</td>\n",
              "      <td>Medium</td>\n",
              "      <td>Cheap</td>\n",
              "    </tr>\n",
              "  </tbody>\n",
              "</table>\n",
              "</div>"
            ],
            "text/plain": [
              "             Make Year  Engine Fuel Type  ... city mpg  Popularity       MSRP\n",
              "25  Mercedes-Benz  Old  regular unleaded  ...      Low         Low      Cheap\n",
              "9             BMW  New  premium unleaded  ...   Medium        High  Expensive\n",
              "13            BMW  New  premium unleaded  ...   Medium        High  Expensive\n",
              "31  Mercedes-Benz  Old  regular unleaded  ...      Low         Low      Cheap\n",
              "34         Nissan  New  regular unleaded  ...      Low      Medium  Expensive\n",
              "8             BMW  New  premium unleaded  ...      Low        High  Expensive\n",
              "17       Chrysler  New  regular unleaded  ...      Low         Low  Expensive\n",
              "24  Mercedes-Benz  Old            diesel  ...   Medium         Low      Cheap\n",
              "0            Audi  Old  regular unleaded  ...      Low        High      Cheap\n",
              "33         Nissan  Old  regular unleaded  ...   Medium      Medium      Cheap\n",
              "\n",
              "[10 rows x 15 columns]"
            ]
          },
          "metadata": {
            "tags": []
          },
          "execution_count": 13
        }
      ]
    },
    {
      "cell_type": "markdown",
      "metadata": {
        "id": "L6mafrNQBqHA"
      },
      "source": [
        "# Train/Create Decision Tree"
      ]
    },
    {
      "cell_type": "code",
      "metadata": {
        "id": "OSBCkjJ4LqOY"
      },
      "source": [
        "# Train the decision tree model\n",
        "decision_tree = create_decision_tree(df_train,df_train,features,label,parent)"
      ],
      "execution_count": 14,
      "outputs": []
    },
    {
      "cell_type": "markdown",
      "metadata": {
        "id": "cmIVl8yTBw5l"
      },
      "source": [
        "# Prediction on Test Data"
      ]
    },
    {
      "cell_type": "code",
      "metadata": {
        "id": "WaS1mU17YN5P"
      },
      "source": [
        "df_test_sliced = df_test[features]"
      ],
      "execution_count": 15,
      "outputs": []
    },
    {
      "cell_type": "markdown",
      "metadata": {
        "id": "MgdXEEnMB090"
      },
      "source": [
        "## Result"
      ]
    },
    {
      "cell_type": "code",
      "metadata": {
        "id": "JmCgjaf1LqOb",
        "outputId": "810c0905-4948-43d5-e7d4-3292dcd85510",
        "colab": {
          "base_uri": "https://localhost:8080/",
          "height": 563
        }
      },
      "source": [
        "prediction = predict_multiple(df_test_sliced, decision_tree)\n",
        "\n",
        "df_test_sliced['prediction'] = prediction\n",
        "df_test_sliced['Real value'] = df_test.iloc[:, -1]\n",
        "df_test_sliced"
      ],
      "execution_count": 18,
      "outputs": [
        {
          "output_type": "stream",
          "text": [
            "/usr/local/lib/python3.6/dist-packages/ipykernel_launcher.py:3: SettingWithCopyWarning: \n",
            "A value is trying to be set on a copy of a slice from a DataFrame.\n",
            "Try using .loc[row_indexer,col_indexer] = value instead\n",
            "\n",
            "See the caveats in the documentation: https://pandas.pydata.org/pandas-docs/stable/user_guide/indexing.html#returning-a-view-versus-a-copy\n",
            "  This is separate from the ipykernel package so we can avoid doing imports until\n",
            "/usr/local/lib/python3.6/dist-packages/ipykernel_launcher.py:4: SettingWithCopyWarning: \n",
            "A value is trying to be set on a copy of a slice from a DataFrame.\n",
            "Try using .loc[row_indexer,col_indexer] = value instead\n",
            "\n",
            "See the caveats in the documentation: https://pandas.pydata.org/pandas-docs/stable/user_guide/indexing.html#returning-a-view-versus-a-copy\n",
            "  after removing the cwd from sys.path.\n"
          ],
          "name": "stderr"
        },
        {
          "output_type": "execute_result",
          "data": {
            "text/html": [
              "<div>\n",
              "<style scoped>\n",
              "    .dataframe tbody tr th:only-of-type {\n",
              "        vertical-align: middle;\n",
              "    }\n",
              "\n",
              "    .dataframe tbody tr th {\n",
              "        vertical-align: top;\n",
              "    }\n",
              "\n",
              "    .dataframe thead th {\n",
              "        text-align: right;\n",
              "    }\n",
              "</style>\n",
              "<table border=\"1\" class=\"dataframe\">\n",
              "  <thead>\n",
              "    <tr style=\"text-align: right;\">\n",
              "      <th></th>\n",
              "      <th>Make</th>\n",
              "      <th>Engine HP</th>\n",
              "      <th>Year</th>\n",
              "      <th>Engine Fuel Type</th>\n",
              "      <th>prediction</th>\n",
              "      <th>Real value</th>\n",
              "    </tr>\n",
              "  </thead>\n",
              "  <tbody>\n",
              "    <tr>\n",
              "      <th>19</th>\n",
              "      <td>Chrysler</td>\n",
              "      <td>High</td>\n",
              "      <td>New</td>\n",
              "      <td>regular unleaded</td>\n",
              "      <td>Expensive</td>\n",
              "      <td>Cheap</td>\n",
              "    </tr>\n",
              "    <tr>\n",
              "      <th>16</th>\n",
              "      <td>Chrysler</td>\n",
              "      <td>High</td>\n",
              "      <td>New</td>\n",
              "      <td>regular unleaded</td>\n",
              "      <td>Expensive</td>\n",
              "      <td>Expensive</td>\n",
              "    </tr>\n",
              "    <tr>\n",
              "      <th>15</th>\n",
              "      <td>BMW</td>\n",
              "      <td>Low</td>\n",
              "      <td>New</td>\n",
              "      <td>premium unleaded</td>\n",
              "      <td>Cheap</td>\n",
              "      <td>Cheap</td>\n",
              "    </tr>\n",
              "    <tr>\n",
              "      <th>26</th>\n",
              "      <td>Mercedes-Benz</td>\n",
              "      <td>Low</td>\n",
              "      <td>Old</td>\n",
              "      <td>regular unleaded</td>\n",
              "      <td>Cheap</td>\n",
              "      <td>Cheap</td>\n",
              "    </tr>\n",
              "    <tr>\n",
              "      <th>4</th>\n",
              "      <td>Audi</td>\n",
              "      <td>Low</td>\n",
              "      <td>New</td>\n",
              "      <td>diesel</td>\n",
              "      <td>Cheap</td>\n",
              "      <td>Cheap</td>\n",
              "    </tr>\n",
              "    <tr>\n",
              "      <th>12</th>\n",
              "      <td>BMW</td>\n",
              "      <td>Medium</td>\n",
              "      <td>New</td>\n",
              "      <td>premium unleaded</td>\n",
              "      <td>Expensive</td>\n",
              "      <td>Expensive</td>\n",
              "    </tr>\n",
              "    <tr>\n",
              "      <th>37</th>\n",
              "      <td>Nissan</td>\n",
              "      <td>High</td>\n",
              "      <td>New</td>\n",
              "      <td>regular unleaded</td>\n",
              "      <td>Expensive</td>\n",
              "      <td>Cheap</td>\n",
              "    </tr>\n",
              "    <tr>\n",
              "      <th>27</th>\n",
              "      <td>Mercedes-Benz</td>\n",
              "      <td>Low</td>\n",
              "      <td>Old</td>\n",
              "      <td>regular unleaded</td>\n",
              "      <td>Cheap</td>\n",
              "      <td>Cheap</td>\n",
              "    </tr>\n",
              "    <tr>\n",
              "      <th>39</th>\n",
              "      <td>Volvo</td>\n",
              "      <td>Low</td>\n",
              "      <td>Old</td>\n",
              "      <td>regular unleaded</td>\n",
              "      <td>Cheap</td>\n",
              "      <td>Cheap</td>\n",
              "    </tr>\n",
              "    <tr>\n",
              "      <th>6</th>\n",
              "      <td>BMW</td>\n",
              "      <td>High</td>\n",
              "      <td>New</td>\n",
              "      <td>premium unleaded</td>\n",
              "      <td>Expensive</td>\n",
              "      <td>Expensive</td>\n",
              "    </tr>\n",
              "  </tbody>\n",
              "</table>\n",
              "</div>"
            ],
            "text/plain": [
              "             Make Engine HP Year  Engine Fuel Type prediction Real value\n",
              "19       Chrysler      High  New  regular unleaded  Expensive      Cheap\n",
              "16       Chrysler      High  New  regular unleaded  Expensive  Expensive\n",
              "15            BMW       Low  New  premium unleaded      Cheap      Cheap\n",
              "26  Mercedes-Benz       Low  Old  regular unleaded      Cheap      Cheap\n",
              "4            Audi       Low  New            diesel      Cheap      Cheap\n",
              "12            BMW    Medium  New  premium unleaded  Expensive  Expensive\n",
              "37         Nissan      High  New  regular unleaded  Expensive      Cheap\n",
              "27  Mercedes-Benz       Low  Old  regular unleaded      Cheap      Cheap\n",
              "39          Volvo       Low  Old  regular unleaded      Cheap      Cheap\n",
              "6             BMW      High  New  premium unleaded  Expensive  Expensive"
            ]
          },
          "metadata": {
            "tags": []
          },
          "execution_count": 18
        }
      ]
    },
    {
      "cell_type": "code",
      "metadata": {
        "id": "-ufzime-ASIY",
        "outputId": "887b1129-88ac-434b-84fe-5e0e76b29e49",
        "colab": {
          "base_uri": "https://localhost:8080/"
        }
      },
      "source": [
        "tot_correct = np.sum(np.where(df_test_sliced['prediction'] == df_test_sliced['Real value'], 1, 0))\n",
        "tot_data = len(df_test_sliced)\n",
        "acc = tot_correct / tot_data\n",
        "acc"
      ],
      "execution_count": 23,
      "outputs": [
        {
          "output_type": "execute_result",
          "data": {
            "text/plain": [
              "0.8"
            ]
          },
          "metadata": {
            "tags": []
          },
          "execution_count": 23
        }
      ]
    },
    {
      "cell_type": "markdown",
      "metadata": {
        "id": "H5FQdXzCB3k3"
      },
      "source": [
        "# Side Note"
      ]
    },
    {
      "cell_type": "code",
      "metadata": {
        "id": "rogYWMzZLqOf",
        "outputId": "ec4a4685-ce0a-4c8c-f64f-86d82a2d8758",
        "colab": {
          "base_uri": "https://localhost:8080/"
        }
      },
      "source": [
        "decision_tree"
      ],
      "execution_count": 17,
      "outputs": [
        {
          "output_type": "execute_result",
          "data": {
            "text/plain": [
              "{'Engine HP': {'High': 'Expensive',\n",
              "  'Low': 'Cheap',\n",
              "  'Medium': {'Make': {'Audi': 'Cheap',\n",
              "    'BMW': 'Expensive',\n",
              "    'Chrysler': 'Cheap',\n",
              "    'Mercedes-Benz': 'Cheap'}}}}"
            ]
          },
          "metadata": {
            "tags": []
          },
          "execution_count": 17
        }
      ]
    },
    {
      "cell_type": "code",
      "metadata": {
        "id": "zywjj5PNLqOk",
        "outputId": "2f1ed23b-0b03-4086-bfc1-fccc16c173f2",
        "colab": {
          "base_uri": "https://localhost:8080/",
          "height": 35
        }
      },
      "source": [
        "sample_data = {'Make':'Mazda', 'Engine HP':'Medium', 'Year':'New', 'Engine Fuel Type':'regular unleaded'}\n",
        "test_data = pd.Series(sample_data)\n",
        "predict(test_data, decision_tree)"
      ],
      "execution_count": 21,
      "outputs": [
        {
          "output_type": "execute_result",
          "data": {
            "application/vnd.google.colaboratory.intrinsic+json": {
              "type": "string"
            },
            "text/plain": [
              "'Expensive'"
            ]
          },
          "metadata": {
            "tags": []
          },
          "execution_count": 21
        }
      ]
    },
    {
      "cell_type": "code",
      "metadata": {
        "id": "M5NFTP1G_Irr"
      },
      "source": [
        ""
      ],
      "execution_count": null,
      "outputs": []
    }
  ]
}