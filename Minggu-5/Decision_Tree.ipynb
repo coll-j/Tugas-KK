{
 "cells": [
  {
   "cell_type": "code",
   "execution_count": 1,
   "metadata": {},
   "outputs": [],
   "source": [
    "import pandas as pd\n",
    "import numpy as np"
   ]
  },
  {
   "cell_type": "code",
   "execution_count": 2,
   "metadata": {},
   "outputs": [
    {
     "data": {
      "text/html": [
       "<div>\n",
       "<style scoped>\n",
       "    .dataframe tbody tr th:only-of-type {\n",
       "        vertical-align: middle;\n",
       "    }\n",
       "\n",
       "    .dataframe tbody tr th {\n",
       "        vertical-align: top;\n",
       "    }\n",
       "\n",
       "    .dataframe thead th {\n",
       "        text-align: right;\n",
       "    }\n",
       "</style>\n",
       "<table border=\"1\" class=\"dataframe\">\n",
       "  <thead>\n",
       "    <tr style=\"text-align: right;\">\n",
       "      <th></th>\n",
       "      <th>Outlook</th>\n",
       "      <th>Temp</th>\n",
       "      <th>Humidity</th>\n",
       "      <th>Wind</th>\n",
       "      <th>Play Tennis</th>\n",
       "    </tr>\n",
       "  </thead>\n",
       "  <tbody>\n",
       "    <tr>\n",
       "      <th>0</th>\n",
       "      <td>Sunny</td>\n",
       "      <td>Hot</td>\n",
       "      <td>High</td>\n",
       "      <td>Weak</td>\n",
       "      <td>No</td>\n",
       "    </tr>\n",
       "    <tr>\n",
       "      <th>1</th>\n",
       "      <td>Sunny</td>\n",
       "      <td>Hot</td>\n",
       "      <td>High</td>\n",
       "      <td>Strong</td>\n",
       "      <td>No</td>\n",
       "    </tr>\n",
       "    <tr>\n",
       "      <th>2</th>\n",
       "      <td>Overcast</td>\n",
       "      <td>Hot</td>\n",
       "      <td>High</td>\n",
       "      <td>Weak</td>\n",
       "      <td>Yes</td>\n",
       "    </tr>\n",
       "    <tr>\n",
       "      <th>3</th>\n",
       "      <td>Rain</td>\n",
       "      <td>Mild</td>\n",
       "      <td>High</td>\n",
       "      <td>Weak</td>\n",
       "      <td>Yes</td>\n",
       "    </tr>\n",
       "    <tr>\n",
       "      <th>4</th>\n",
       "      <td>Rain</td>\n",
       "      <td>Cold</td>\n",
       "      <td>Normal</td>\n",
       "      <td>Weak</td>\n",
       "      <td>Yes</td>\n",
       "    </tr>\n",
       "  </tbody>\n",
       "</table>\n",
       "</div>"
      ],
      "text/plain": [
       "    Outlook  Temp Humidity    Wind Play Tennis\n",
       "0     Sunny   Hot     High    Weak          No\n",
       "1     Sunny   Hot     High  Strong          No\n",
       "2  Overcast   Hot     High    Weak         Yes\n",
       "3      Rain  Mild     High    Weak         Yes\n",
       "4      Rain  Cold   Normal    Weak         Yes"
      ]
     },
     "execution_count": 2,
     "metadata": {},
     "output_type": "execute_result"
    }
   ],
   "source": [
    "df = pd.read_csv('dataset.csv')\n",
    "df.head()"
   ]
  },
  {
   "cell_type": "code",
   "execution_count": 3,
   "metadata": {},
   "outputs": [],
   "source": [
    "# Define the calculate entropy function\n",
    "def calculate_entropy(df_label):\n",
    "    classes,class_counts = np.unique(df_label,return_counts = True)\n",
    "    entropy_value = np.sum([(-class_counts[i]/np.sum(class_counts))*np.log2(class_counts[i]/np.sum(class_counts)) \n",
    "                        for i in range(len(classes))])\n",
    "    return entropy_value"
   ]
  },
  {
   "cell_type": "code",
   "execution_count": 4,
   "metadata": {},
   "outputs": [],
   "source": [
    "# Define the calculate information gain function\n",
    "def calculate_information_gain(dataset,feature,label): \n",
    "    # Calculate the dataset entropy\n",
    "    dataset_entropy = calculate_entropy(dataset[label])   \n",
    "    values,feat_counts= np.unique(dataset[feature],return_counts=True)\n",
    "    \n",
    "    # Calculate the weighted feature entropy                                # Call the calculate_entropy function\n",
    "    weighted_feature_entropy = np.sum([(feat_counts[i]/np.sum(feat_counts))*calculate_entropy(dataset.where(dataset[feature]\n",
    "                              ==values[i]).dropna()[label]) for i in range(len(values))])    \n",
    "    feature_info_gain = dataset_entropy - weighted_feature_entropy\n",
    "    return feature_info_gain"
   ]
  },
  {
   "cell_type": "code",
   "execution_count": 5,
   "metadata": {},
   "outputs": [],
   "source": [
    "# Define the create decision tree function\n",
    "def create_decision_tree(dataset, df, features, label, parent):\n",
    "    \n",
    "    datum = np.unique(df[label], return_counts = True)\n",
    "    unique_data = np.unique(dataset[label])\n",
    "    \n",
    "    if len(unique_data) <= 1:\n",
    "        return unique_data[0]\n",
    "    \n",
    "    elif len(dataset) == 0:\n",
    "        return unique_data[np.argmax(datum[1])]\n",
    "    \n",
    "    elif len(features) == 0:\n",
    "        return paret\n",
    "    \n",
    "    else:\n",
    "        parent = unique_data[np.argmax(datum[1])]\n",
    "        \n",
    "        item_values = [calculate_information_gain(dataset, feature, label) for feature in features]\n",
    "        \n",
    "        optimum_feature_index = np.argmax(item_values)\n",
    "        optimum_feature = features[optimum_feature_index]\n",
    "        decision_tree = {optimum_feature:{}}\n",
    "        features = [i for i in features if i != optimum_feature]\n",
    "        \n",
    "        for value in np.unique(dataset[optimum_feature]):\n",
    "            min_data = dataset.where(dataset[optimum_feature] == value).dropna()\n",
    "            \n",
    "            min_tree = create_decision_tree(min_data, df, features, label, parent)\n",
    "            \n",
    "            decision_tree[optimum_feature][value] = min_tree\n",
    "        \n",
    "        return (decision_tree)"
   ]
  },
  {
   "cell_type": "code",
   "execution_count": 6,
   "metadata": {},
   "outputs": [],
   "source": [
    "# Define the predict function\n",
    "def predict(test_data, decision_tree):\n",
    "    for nodes in decision_tree.keys():\n",
    "        value = test_data[nodes]\n",
    "        decision_tree = decision_tree[nodes][value]\n",
    "        \n",
    "        prediction = 0\n",
    "        if type(decision_tree) is dict:\n",
    "            prediction = predict(test_data, decision_tree)\n",
    "        else:\n",
    "            prediction = decision_tree\n",
    "            break\n",
    "            \n",
    "    return prediction"
   ]
  },
  {
   "cell_type": "code",
   "execution_count": 7,
   "metadata": {},
   "outputs": [
    {
     "data": {
      "text/plain": [
       "Index(['Outlook', 'Temp', 'Humidity', 'Wind'], dtype='object')"
      ]
     },
     "execution_count": 7,
     "metadata": {},
     "output_type": "execute_result"
    }
   ],
   "source": [
    "# Set the features and label\n",
    "features = df.columns[:-1]\n",
    "label = 'Play Tennis'\n",
    "parent=None\n",
    "features"
   ]
  },
  {
   "cell_type": "code",
   "execution_count": 8,
   "metadata": {},
   "outputs": [],
   "source": [
    "# Train the decision tree model\n",
    "decision_tree = create_decision_tree(df,df,features,label,parent)"
   ]
  },
  {
   "cell_type": "code",
   "execution_count": 9,
   "metadata": {},
   "outputs": [
    {
     "data": {
      "text/plain": [
       "'Yes'"
      ]
     },
     "execution_count": 9,
     "metadata": {},
     "output_type": "execute_result"
    }
   ],
   "source": [
    "sample_data = {'Outlook':'Rain', 'Temp':'Mild', 'Humidity':'Normal', 'Wind':'Strong'}\n",
    "test_data = pd.Series(sample_data)\n",
    "prediction = predict(test_data, decision_tree)\n",
    "prediction"
   ]
  },
  {
   "cell_type": "code",
   "execution_count": 10,
   "metadata": {},
   "outputs": [
    {
     "data": {
      "text/plain": [
       "{'Outlook': {'Overcast': 'Yes',\n",
       "  'Rain': {'Wind': {'Strong': {'Temp': {'Cold': 'No',\n",
       "      'Mild': {'Humidity': {'High': 'No', 'Normal': 'Yes'}}}},\n",
       "    'Weak': 'Yes'}},\n",
       "  'Sunny': {'Humidity': {'High': 'No', 'Normal': 'Yes'}}}}"
      ]
     },
     "execution_count": 10,
     "metadata": {},
     "output_type": "execute_result"
    }
   ],
   "source": [
    "decision_tree"
   ]
  },
  {
   "cell_type": "code",
   "execution_count": null,
   "metadata": {},
   "outputs": [],
   "source": []
  }
 ],
 "metadata": {
  "kernelspec": {
   "display_name": "Python 3",
   "language": "python",
   "name": "python3"
  },
  "language_info": {
   "codemirror_mode": {
    "name": "ipython",
    "version": 3
   },
   "file_extension": ".py",
   "mimetype": "text/x-python",
   "name": "python",
   "nbconvert_exporter": "python",
   "pygments_lexer": "ipython3",
   "version": "3.6.12"
  }
 },
 "nbformat": 4,
 "nbformat_minor": 4
}
