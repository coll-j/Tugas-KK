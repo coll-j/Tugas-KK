{
  "nbformat": 4,
  "nbformat_minor": 0,
  "metadata": {
    "kernelspec": {
      "display_name": "Python 3",
      "language": "python",
      "name": "python3"
    },
    "language_info": {
      "codemirror_mode": {
        "name": "ipython",
        "version": 3
      },
      "file_extension": ".py",
      "mimetype": "text/x-python",
      "name": "python",
      "nbconvert_exporter": "python",
      "pygments_lexer": "ipython3",
      "version": "3.6.12"
    },
    "colab": {
      "name": "Decision_Tree.ipynb",
      "provenance": []
    }
  },
  "cells": [
    {
      "cell_type": "code",
      "metadata": {
        "id": "JNz29X78NXtO",
        "outputId": "029d0fe8-3acc-4a3e-af2a-43834fa1073d",
        "colab": {
          "base_uri": "https://localhost:8080/"
        }
      },
      "source": [
        "!wget https://raw.githubusercontent.com/coll-j/Tugas-KK/master/Minggu-5/dataset-car-40-row.csv"
      ],
      "execution_count": 1,
      "outputs": [
        {
          "output_type": "stream",
          "text": [
            "--2020-11-02 04:27:43--  https://raw.githubusercontent.com/coll-j/Tugas-KK/master/Minggu-5/dataset-car-40-row.csv\n",
            "Resolving raw.githubusercontent.com (raw.githubusercontent.com)... 151.101.0.133, 151.101.64.133, 151.101.128.133, ...\n",
            "Connecting to raw.githubusercontent.com (raw.githubusercontent.com)|151.101.0.133|:443... connected.\n",
            "HTTP request sent, awaiting response... 200 OK\n",
            "Length: 4628 (4.5K) [text/plain]\n",
            "Saving to: ‘dataset-car-40-row.csv’\n",
            "\n",
            "dataset-car-40-row. 100%[===================>]   4.52K  --.-KB/s    in 0s      \n",
            "\n",
            "2020-11-02 04:27:43 (52.5 MB/s) - ‘dataset-car-40-row.csv’ saved [4628/4628]\n",
            "\n"
          ],
          "name": "stdout"
        }
      ]
    },
    {
      "cell_type": "code",
      "metadata": {
        "id": "U__zdpBFLqN2"
      },
      "source": [
        "import pandas as pd\n",
        "import numpy as np\n",
        "from sklearn.feature_selection import SelectKBest\n",
        "from sklearn.feature_selection import mutual_info_classif\n",
        "from functools import partial\n",
        "from sklearn.preprocessing import OrdinalEncoder\n",
        "from sklearn.model_selection import train_test_split\n",
        "import random"
      ],
      "execution_count": 113,
      "outputs": []
    },
    {
      "cell_type": "code",
      "metadata": {
        "id": "2SigZ0E3LqN8",
        "outputId": "2f06f42a-b764-47af-e67f-8b4ef1d8c466",
        "colab": {
          "base_uri": "https://localhost:8080/",
          "height": 343
        }
      },
      "source": [
        "df = pd.read_csv('dataset-car-40-row.csv', sep=';')\n",
        "df.head()"
      ],
      "execution_count": 5,
      "outputs": [
        {
          "output_type": "execute_result",
          "data": {
            "text/html": [
              "<div>\n",
              "<style scoped>\n",
              "    .dataframe tbody tr th:only-of-type {\n",
              "        vertical-align: middle;\n",
              "    }\n",
              "\n",
              "    .dataframe tbody tr th {\n",
              "        vertical-align: top;\n",
              "    }\n",
              "\n",
              "    .dataframe thead th {\n",
              "        text-align: right;\n",
              "    }\n",
              "</style>\n",
              "<table border=\"1\" class=\"dataframe\">\n",
              "  <thead>\n",
              "    <tr style=\"text-align: right;\">\n",
              "      <th></th>\n",
              "      <th>Make</th>\n",
              "      <th>Year</th>\n",
              "      <th>Engine Fuel Type</th>\n",
              "      <th>Engine HP</th>\n",
              "      <th>Engine Cylinders</th>\n",
              "      <th>Transmission Type</th>\n",
              "      <th>Driven_Wheels</th>\n",
              "      <th>Number of Doors</th>\n",
              "      <th>Market Category</th>\n",
              "      <th>Vehicle Size</th>\n",
              "      <th>Vehicle Style</th>\n",
              "      <th>highway MPG</th>\n",
              "      <th>city mpg</th>\n",
              "      <th>Popularity</th>\n",
              "      <th>MSRP</th>\n",
              "    </tr>\n",
              "  </thead>\n",
              "  <tbody>\n",
              "    <tr>\n",
              "      <th>0</th>\n",
              "      <td>Audi</td>\n",
              "      <td>Old</td>\n",
              "      <td>regular unleaded</td>\n",
              "      <td>Low</td>\n",
              "      <td>6</td>\n",
              "      <td>MANUAL</td>\n",
              "      <td>front wheel drive</td>\n",
              "      <td>4</td>\n",
              "      <td>Luxury</td>\n",
              "      <td>Midsize</td>\n",
              "      <td>Sedan</td>\n",
              "      <td>Low</td>\n",
              "      <td>Low</td>\n",
              "      <td>High</td>\n",
              "      <td>Cheap</td>\n",
              "    </tr>\n",
              "    <tr>\n",
              "      <th>1</th>\n",
              "      <td>Audi</td>\n",
              "      <td>Old</td>\n",
              "      <td>regular unleaded</td>\n",
              "      <td>Low</td>\n",
              "      <td>6</td>\n",
              "      <td>MANUAL</td>\n",
              "      <td>front wheel drive</td>\n",
              "      <td>4</td>\n",
              "      <td>Luxury</td>\n",
              "      <td>Midsize</td>\n",
              "      <td>Sedan</td>\n",
              "      <td>Low</td>\n",
              "      <td>Low</td>\n",
              "      <td>High</td>\n",
              "      <td>Cheap</td>\n",
              "    </tr>\n",
              "    <tr>\n",
              "      <th>2</th>\n",
              "      <td>Audi</td>\n",
              "      <td>Old</td>\n",
              "      <td>regular unleaded</td>\n",
              "      <td>Low</td>\n",
              "      <td>6</td>\n",
              "      <td>AUTOMATIC</td>\n",
              "      <td>all wheel drive</td>\n",
              "      <td>4</td>\n",
              "      <td>Luxury</td>\n",
              "      <td>Midsize</td>\n",
              "      <td>Wagon</td>\n",
              "      <td>Low</td>\n",
              "      <td>Low</td>\n",
              "      <td>High</td>\n",
              "      <td>Cheap</td>\n",
              "    </tr>\n",
              "    <tr>\n",
              "      <th>3</th>\n",
              "      <td>Audi</td>\n",
              "      <td>Old</td>\n",
              "      <td>regular unleaded</td>\n",
              "      <td>Low</td>\n",
              "      <td>6</td>\n",
              "      <td>AUTOMATIC</td>\n",
              "      <td>front wheel drive</td>\n",
              "      <td>4</td>\n",
              "      <td>Luxury</td>\n",
              "      <td>Midsize</td>\n",
              "      <td>Sedan</td>\n",
              "      <td>Low</td>\n",
              "      <td>Low</td>\n",
              "      <td>High</td>\n",
              "      <td>Cheap</td>\n",
              "    </tr>\n",
              "    <tr>\n",
              "      <th>4</th>\n",
              "      <td>Audi</td>\n",
              "      <td>New</td>\n",
              "      <td>diesel</td>\n",
              "      <td>Low</td>\n",
              "      <td>4</td>\n",
              "      <td>AUTOMATIC</td>\n",
              "      <td>front wheel drive</td>\n",
              "      <td>4</td>\n",
              "      <td>Luxury</td>\n",
              "      <td>Compact</td>\n",
              "      <td>Sedan</td>\n",
              "      <td>High</td>\n",
              "      <td>High</td>\n",
              "      <td>High</td>\n",
              "      <td>Cheap</td>\n",
              "    </tr>\n",
              "  </tbody>\n",
              "</table>\n",
              "</div>"
            ],
            "text/plain": [
              "   Make Year  Engine Fuel Type Engine HP  ...  highway MPG city mpg Popularity   MSRP\n",
              "0  Audi  Old  regular unleaded       Low  ...          Low      Low       High  Cheap\n",
              "1  Audi  Old  regular unleaded       Low  ...          Low      Low       High  Cheap\n",
              "2  Audi  Old  regular unleaded       Low  ...          Low      Low       High  Cheap\n",
              "3  Audi  Old  regular unleaded       Low  ...          Low      Low       High  Cheap\n",
              "4  Audi  New            diesel       Low  ...         High     High       High  Cheap\n",
              "\n",
              "[5 rows x 15 columns]"
            ]
          },
          "metadata": {
            "tags": []
          },
          "execution_count": 5
        }
      ]
    },
    {
      "cell_type": "code",
      "metadata": {
        "id": "zzZJYjmsLqOB"
      },
      "source": [
        "# Define the calculate entropy function\n",
        "def calculate_entropy(df_label):\n",
        "    classes,class_counts = np.unique(df_label,return_counts = True)\n",
        "    entropy_value = np.sum([(-class_counts[i]/np.sum(class_counts))*np.log2(class_counts[i]/np.sum(class_counts)) \n",
        "                        for i in range(len(classes))])\n",
        "    return entropy_value"
      ],
      "execution_count": 6,
      "outputs": []
    },
    {
      "cell_type": "code",
      "metadata": {
        "id": "8dv0hpXDLqOG"
      },
      "source": [
        "# Define the calculate information gain function\n",
        "def calculate_information_gain(dataset,feature,label): \n",
        "    # Calculate the dataset entropy\n",
        "    dataset_entropy = calculate_entropy(dataset[label])   \n",
        "    values,feat_counts= np.unique(dataset[feature],return_counts=True)\n",
        "    \n",
        "    # Calculate the weighted feature entropy                                # Call the calculate_entropy function\n",
        "    weighted_feature_entropy = np.sum([(feat_counts[i]/np.sum(feat_counts))*calculate_entropy(dataset.where(dataset[feature]\n",
        "                              ==values[i]).dropna()[label]) for i in range(len(values))])    \n",
        "    feature_info_gain = dataset_entropy - weighted_feature_entropy\n",
        "    return feature_info_gain"
      ],
      "execution_count": 7,
      "outputs": []
    },
    {
      "cell_type": "code",
      "metadata": {
        "id": "D6LHCfX7LqOL"
      },
      "source": [
        "# Define the create decision tree function\n",
        "def create_decision_tree(dataset, df, features, label, parent):\n",
        "    \n",
        "    datum = np.unique(df[label], return_counts = True)\n",
        "    unique_data = np.unique(dataset[label])\n",
        "    # print('len features', len(features))\n",
        "    if len(unique_data) <= 1:\n",
        "        return unique_data[0]\n",
        "    \n",
        "    elif len(dataset) == 0:\n",
        "        return unique_data[np.argmax(datum[1])]\n",
        "    \n",
        "    elif len(features) == 0:\n",
        "        return parent\n",
        "    \n",
        "    else:\n",
        "        parent = unique_data[np.argmax(datum[1])]\n",
        "        \n",
        "        item_values = [calculate_information_gain(dataset, feature, label) for feature in features]\n",
        "        \n",
        "        optimum_feature_index = np.argmax(item_values)\n",
        "        optimum_feature = features[optimum_feature_index]\n",
        "        decision_tree = {optimum_feature:{}}\n",
        "        features = [i for i in features if i != optimum_feature]\n",
        "        \n",
        "        for value in np.unique(dataset[optimum_feature]):\n",
        "            min_data = dataset.where(dataset[optimum_feature] == value).dropna()\n",
        "            \n",
        "            min_tree = create_decision_tree(min_data, df, features, label, parent)\n",
        "            \n",
        "            decision_tree[optimum_feature][value] = min_tree\n",
        "        \n",
        "        return (decision_tree)"
      ],
      "execution_count": 48,
      "outputs": []
    },
    {
      "cell_type": "code",
      "metadata": {
        "id": "Y_RCviuPLqOP"
      },
      "source": [
        "# Define the predict function\n",
        "def predict(test_data, decision_tree):\n",
        "    for nodes in decision_tree.keys():\n",
        "        value = test_data[nodes]\n",
        "        if value in decision_tree[nodes].keys():\n",
        "          decision_tree = decision_tree[nodes][value]\n",
        "        else:\n",
        "          decision_tree = decision_tree[nodes][random.choice(list(decision_tree[nodes].keys()))]\n",
        "        \n",
        "        prediction = 0\n",
        "        if type(decision_tree) is dict:\n",
        "            prediction = predict(test_data, decision_tree)\n",
        "        else:\n",
        "            prediction = decision_tree\n",
        "            break\n",
        "            \n",
        "    return prediction"
      ],
      "execution_count": 110,
      "outputs": []
    },
    {
      "cell_type": "code",
      "metadata": {
        "id": "GeiMmWofc63k"
      },
      "source": [
        "def predict_multiple(input, decision_tree, print_each=False):\n",
        "  predictions = []\n",
        "  for i in range(len(input)):\n",
        "\n",
        "    prediction = predict(input.iloc[i, :], decision_tree)\n",
        "    predictions.append(prediction)\n",
        "\n",
        "    if print_each:\n",
        "      print('Input Data: ')\n",
        "      print(input.iloc[i, :])\n",
        "      \n",
        "      print('Prediction: ')\n",
        "      print(prediction)\n",
        "      print()\n",
        "\n",
        "  return predictions"
      ],
      "execution_count": 115,
      "outputs": []
    },
    {
      "cell_type": "code",
      "metadata": {
        "id": "4FSX7lGqRlxP"
      },
      "source": [
        "oe = OrdinalEncoder()\n",
        "X_enc = df.drop('MSRP', axis=1)\n",
        "X_enc = oe.fit_transform(X_enc)\n",
        "y = df.iloc[:, -1]"
      ],
      "execution_count": 34,
      "outputs": []
    },
    {
      "cell_type": "code",
      "metadata": {
        "id": "kuH39XwDtvBM",
        "outputId": "a420bcc0-b53f-457b-ed1d-f69e5efc4518",
        "colab": {
          "base_uri": "https://localhost:8080/"
        }
      },
      "source": [
        "discrete_feat_idx = [0, 1, 2, 3, 5, 6, 8, 9, 10, 11, 12, 13]\n",
        "bestfeatures = SelectKBest(partial(mutual_info_classif, discrete_features=discrete_feat_idx), k='all')\n",
        "fit = bestfeatures.fit(X_enc, y)\n",
        "dfscores = pd.DataFrame(fit.scores_)\n",
        "dfcolumns = pd.DataFrame(df.columns[:-1])\n",
        "#concat two dataframes for better visualization \n",
        "featureScores = pd.concat([dfcolumns,dfscores],axis=1)\n",
        "featureScores.columns = ['Specs','Score']  #naming the dataframe columns\n",
        "print(featureScores.nlargest(4,'Score'))  #print 10 best features"
      ],
      "execution_count": 36,
      "outputs": [
        {
          "output_type": "stream",
          "text": [
            "              Specs     Score\n",
            "0              Make  0.392889\n",
            "3         Engine HP  0.392769\n",
            "1              Year  0.239931\n",
            "2  Engine Fuel Type  0.214667\n"
          ],
          "name": "stdout"
        }
      ]
    },
    {
      "cell_type": "code",
      "metadata": {
        "id": "Kzn8nuHfLqOT",
        "outputId": "c7614267-2c0a-4d28-ddd2-fa5fc7c36c0d",
        "colab": {
          "base_uri": "https://localhost:8080/"
        }
      },
      "source": [
        "# Set the features and label\n",
        "features = ['Make', 'Engine HP', 'Year', 'Engine Fuel Type']\n",
        "label = 'MSRP'\n",
        "parent=None\n",
        "df_train, df_test = train_test_split(df, test_size=0.25)\n",
        "len(df_train)"
      ],
      "execution_count": 118,
      "outputs": [
        {
          "output_type": "execute_result",
          "data": {
            "text/plain": [
              "30"
            ]
          },
          "metadata": {
            "tags": []
          },
          "execution_count": 118
        }
      ]
    },
    {
      "cell_type": "code",
      "metadata": {
        "id": "OSBCkjJ4LqOY"
      },
      "source": [
        "# Train the decision tree model\n",
        "decision_tree = create_decision_tree(df_train,df_train,features,label,parent)"
      ],
      "execution_count": 119,
      "outputs": []
    },
    {
      "cell_type": "code",
      "metadata": {
        "id": "WaS1mU17YN5P"
      },
      "source": [
        "df_test_sliced = df_test[features]"
      ],
      "execution_count": 120,
      "outputs": []
    },
    {
      "cell_type": "code",
      "metadata": {
        "id": "JmCgjaf1LqOb",
        "outputId": "5d446596-eeab-4994-a3e5-c544810d3d37",
        "colab": {
          "base_uri": "https://localhost:8080/",
          "height": 583
        }
      },
      "source": [
        "sample_data = {'Make':'Nissan', 'Engine HP':'Low', 'Year':'Old', 'Engine Fuel Type':'regular unleaded'}\n",
        "test_data = pd.Series(sample_data)\n",
        "prediction = predict_multiple(df_test_sliced, decision_tree)\n",
        "\n",
        "df_test_sliced['prediction'] = prediction\n",
        "df_test_sliced['Real value'] = df_test.iloc[:, -1]\n",
        "df_test_sliced"
      ],
      "execution_count": 126,
      "outputs": [
        {
          "output_type": "stream",
          "text": [
            "/usr/local/lib/python3.6/dist-packages/ipykernel_launcher.py:5: SettingWithCopyWarning: \n",
            "A value is trying to be set on a copy of a slice from a DataFrame.\n",
            "Try using .loc[row_indexer,col_indexer] = value instead\n",
            "\n",
            "See the caveats in the documentation: https://pandas.pydata.org/pandas-docs/stable/user_guide/indexing.html#returning-a-view-versus-a-copy\n",
            "  \"\"\"\n",
            "/usr/local/lib/python3.6/dist-packages/ipykernel_launcher.py:6: SettingWithCopyWarning: \n",
            "A value is trying to be set on a copy of a slice from a DataFrame.\n",
            "Try using .loc[row_indexer,col_indexer] = value instead\n",
            "\n",
            "See the caveats in the documentation: https://pandas.pydata.org/pandas-docs/stable/user_guide/indexing.html#returning-a-view-versus-a-copy\n",
            "  \n"
          ],
          "name": "stderr"
        },
        {
          "output_type": "execute_result",
          "data": {
            "text/html": [
              "<div>\n",
              "<style scoped>\n",
              "    .dataframe tbody tr th:only-of-type {\n",
              "        vertical-align: middle;\n",
              "    }\n",
              "\n",
              "    .dataframe tbody tr th {\n",
              "        vertical-align: top;\n",
              "    }\n",
              "\n",
              "    .dataframe thead th {\n",
              "        text-align: right;\n",
              "    }\n",
              "</style>\n",
              "<table border=\"1\" class=\"dataframe\">\n",
              "  <thead>\n",
              "    <tr style=\"text-align: right;\">\n",
              "      <th></th>\n",
              "      <th>Make</th>\n",
              "      <th>Engine HP</th>\n",
              "      <th>Year</th>\n",
              "      <th>Engine Fuel Type</th>\n",
              "      <th>prediction</th>\n",
              "      <th>Real value</th>\n",
              "    </tr>\n",
              "  </thead>\n",
              "  <tbody>\n",
              "    <tr>\n",
              "      <th>1</th>\n",
              "      <td>Audi</td>\n",
              "      <td>Low</td>\n",
              "      <td>Old</td>\n",
              "      <td>regular unleaded</td>\n",
              "      <td>Cheap</td>\n",
              "      <td>Cheap</td>\n",
              "    </tr>\n",
              "    <tr>\n",
              "      <th>33</th>\n",
              "      <td>Nissan</td>\n",
              "      <td>Low</td>\n",
              "      <td>Old</td>\n",
              "      <td>regular unleaded</td>\n",
              "      <td>Cheap</td>\n",
              "      <td>Cheap</td>\n",
              "    </tr>\n",
              "    <tr>\n",
              "      <th>37</th>\n",
              "      <td>Nissan</td>\n",
              "      <td>High</td>\n",
              "      <td>New</td>\n",
              "      <td>regular unleaded</td>\n",
              "      <td>Expensive</td>\n",
              "      <td>Cheap</td>\n",
              "    </tr>\n",
              "    <tr>\n",
              "      <th>30</th>\n",
              "      <td>Mercedes-Benz</td>\n",
              "      <td>Low</td>\n",
              "      <td>Old</td>\n",
              "      <td>diesel</td>\n",
              "      <td>Cheap</td>\n",
              "      <td>Cheap</td>\n",
              "    </tr>\n",
              "    <tr>\n",
              "      <th>22</th>\n",
              "      <td>Mazda</td>\n",
              "      <td>Low</td>\n",
              "      <td>New</td>\n",
              "      <td>regular unleaded</td>\n",
              "      <td>Cheap</td>\n",
              "      <td>Cheap</td>\n",
              "    </tr>\n",
              "    <tr>\n",
              "      <th>4</th>\n",
              "      <td>Audi</td>\n",
              "      <td>Low</td>\n",
              "      <td>New</td>\n",
              "      <td>diesel</td>\n",
              "      <td>Cheap</td>\n",
              "      <td>Cheap</td>\n",
              "    </tr>\n",
              "    <tr>\n",
              "      <th>8</th>\n",
              "      <td>BMW</td>\n",
              "      <td>High</td>\n",
              "      <td>New</td>\n",
              "      <td>premium unleaded</td>\n",
              "      <td>Expensive</td>\n",
              "      <td>Expensive</td>\n",
              "    </tr>\n",
              "    <tr>\n",
              "      <th>15</th>\n",
              "      <td>BMW</td>\n",
              "      <td>Low</td>\n",
              "      <td>New</td>\n",
              "      <td>premium unleaded</td>\n",
              "      <td>Expensive</td>\n",
              "      <td>Cheap</td>\n",
              "    </tr>\n",
              "    <tr>\n",
              "      <th>26</th>\n",
              "      <td>Mercedes-Benz</td>\n",
              "      <td>Low</td>\n",
              "      <td>Old</td>\n",
              "      <td>regular unleaded</td>\n",
              "      <td>Cheap</td>\n",
              "      <td>Cheap</td>\n",
              "    </tr>\n",
              "    <tr>\n",
              "      <th>10</th>\n",
              "      <td>BMW</td>\n",
              "      <td>Medium</td>\n",
              "      <td>New</td>\n",
              "      <td>premium unleaded</td>\n",
              "      <td>Expensive</td>\n",
              "      <td>Expensive</td>\n",
              "    </tr>\n",
              "  </tbody>\n",
              "</table>\n",
              "</div>"
            ],
            "text/plain": [
              "             Make Engine HP Year  Engine Fuel Type prediction Real value\n",
              "1            Audi       Low  Old  regular unleaded      Cheap      Cheap\n",
              "33         Nissan       Low  Old  regular unleaded      Cheap      Cheap\n",
              "37         Nissan      High  New  regular unleaded  Expensive      Cheap\n",
              "30  Mercedes-Benz       Low  Old            diesel      Cheap      Cheap\n",
              "22          Mazda       Low  New  regular unleaded      Cheap      Cheap\n",
              "4            Audi       Low  New            diesel      Cheap      Cheap\n",
              "8             BMW      High  New  premium unleaded  Expensive  Expensive\n",
              "15            BMW       Low  New  premium unleaded  Expensive      Cheap\n",
              "26  Mercedes-Benz       Low  Old  regular unleaded      Cheap      Cheap\n",
              "10            BMW    Medium  New  premium unleaded  Expensive  Expensive"
            ]
          },
          "metadata": {
            "tags": []
          },
          "execution_count": 126
        }
      ]
    },
    {
      "cell_type": "code",
      "metadata": {
        "id": "rogYWMzZLqOf",
        "outputId": "f2a09ab4-96db-4c2b-f935-ca9e9102ece7",
        "colab": {
          "base_uri": "https://localhost:8080/"
        }
      },
      "source": [
        "decision_tree"
      ],
      "execution_count": 93,
      "outputs": [
        {
          "output_type": "execute_result",
          "data": {
            "text/plain": [
              "{'Make': {'Audi': 'Cheap',\n",
              "  'BMW': 'Expensive',\n",
              "  'Chrysler': {'Engine HP': {'High': {'Year': {'New': {'Engine Fuel Type': {'regular unleaded': 'Cheap'}}}},\n",
              "    'Medium': 'Cheap'}},\n",
              "  'FIAT': 'Cheap',\n",
              "  'Mercedes-Benz': 'Cheap',\n",
              "  'Nissan': {'Engine HP': {'High': {'Engine Fuel Type': {'premium unleaded': 'Expensive',\n",
              "      'regular unleaded': {'Year': {'New': 'Cheap'}}}},\n",
              "    'Low': 'Cheap'}},\n",
              "  'Volvo': 'Cheap'}}"
            ]
          },
          "metadata": {
            "tags": []
          },
          "execution_count": 93
        }
      ]
    },
    {
      "cell_type": "code",
      "metadata": {
        "id": "zywjj5PNLqOk"
      },
      "source": [
        ""
      ],
      "execution_count": null,
      "outputs": []
    }
  ]
}