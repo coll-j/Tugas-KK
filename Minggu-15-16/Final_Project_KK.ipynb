{
  "nbformat": 4,
  "nbformat_minor": 0,
  "metadata": {
    "colab": {
      "name": "Final Project KK.ipynb",
      "provenance": [],
      "collapsed_sections": [
        "8wtCmrfAmnsr",
        "RJp9Dhe5IB-d"
      ],
      "toc_visible": true,
      "authorship_tag": "ABX9TyNEMQiOsx/3CJXseZHTc79m",
      "include_colab_link": true
    },
    "kernelspec": {
      "display_name": "Python 3",
      "name": "python3"
    }
  },
  "cells": [
    {
      "cell_type": "markdown",
      "metadata": {
        "id": "view-in-github",
        "colab_type": "text"
      },
      "source": [
        "<a href=\"https://colab.research.google.com/github/coll-j/Tugas-KK/blob/master/Minggu-15-16/Final_Project_KK.ipynb\" target=\"_parent\"><img src=\"https://colab.research.google.com/assets/colab-badge.svg\" alt=\"Open In Colab\"/></a>"
      ]
    },
    {
      "cell_type": "markdown",
      "metadata": {
        "id": "K8i8Z5RP6Ebk"
      },
      "source": [
        "# Download Dataset\r\n",
        "\r\n",
        "Download the data using Kaggle API"
      ]
    },
    {
      "cell_type": "markdown",
      "metadata": {
        "id": "ZHOw90NGjZhS"
      },
      "source": [
        "Install Kaggle pada virtual machine (VM)"
      ]
    },
    {
      "cell_type": "code",
      "metadata": {
        "id": "cmnYd25F47zT"
      },
      "source": [
        "!pip install -q kaggle"
      ],
      "execution_count": 1,
      "outputs": []
    },
    {
      "cell_type": "markdown",
      "metadata": {
        "id": "Ss8y3gAzjeH3"
      },
      "source": [
        "API Kaggle bisa didapatkan dari halaman akun Kaggle. API tersebut lalu dipindahkan ke VM untuk keperluan mendownload data."
      ]
    },
    {
      "cell_type": "code",
      "metadata": {
        "colab": {
          "base_uri": "https://localhost:8080/"
        },
        "id": "lZMJHqHx4wp2",
        "outputId": "f08aee2b-7865-481c-e5b1-d775888c9dd3"
      },
      "source": [
        "!mkdir -p ~/.kaggle\r\n",
        "!cp kaggle.json ~/.kaggle/\r\n",
        "!chmod 600 /root/.kaggle/kaggle.json\r\n",
        "!kaggle datasets download -d anmolkumar/health-insurance-cross-sell-prediction"
      ],
      "execution_count": 2,
      "outputs": [
        {
          "output_type": "stream",
          "text": [
            "Downloading health-insurance-cross-sell-prediction.zip to /content\n",
            "\r  0% 0.00/6.47M [00:00<?, ?B/s]\n",
            "\r100% 6.47M/6.47M [00:00<00:00, 59.7MB/s]\n"
          ],
          "name": "stdout"
        }
      ]
    },
    {
      "cell_type": "markdown",
      "metadata": {
        "id": "uEycTA1OjskW"
      },
      "source": [
        "Mengekstrak file yang terunduh"
      ]
    },
    {
      "cell_type": "code",
      "metadata": {
        "id": "xoL0b7uU59b5"
      },
      "source": [
        "!unzip -q health-insurance-cross-sell-prediction.zip -d ."
      ],
      "execution_count": 3,
      "outputs": []
    },
    {
      "cell_type": "markdown",
      "metadata": {
        "id": "LA62x9x9jx8M"
      },
      "source": [
        "Menginstall beberapa kerpluan untuk menggunakan ThunderSVM. ThunderSVM merupakan model SVM dengan akselerasi GPU."
      ]
    },
    {
      "cell_type": "code",
      "metadata": {
        "colab": {
          "base_uri": "https://localhost:8080/"
        },
        "id": "jANfIArGChZe",
        "outputId": "8f91414c-f46d-4df5-f92a-e182aef18c08"
      },
      "source": [
        "!wget https://developer.nvidia.com/compute/cuda/9.0/Prod/local_installers/cuda-repo-ubuntu1704-9-0-local_9.0.176-1_amd64-deb\r\n",
        "!ls  # Check if required cuda 9.0 amd64-deb file is downloaded\r\n",
        "!dpkg -i cuda-repo-ubuntu1704-9-0-local_9.0.176-1_amd64-deb\r\n",
        "!ls /var/cuda-repo-9-0-local | grep .pub\r\n",
        "!apt-key add /var/cuda-repo-9-0-local/7fa2af80.pub\r\n",
        "!apt-get update\r\n",
        "!sudo apt-get install cuda-9.0"
      ],
      "execution_count": null,
      "outputs": [
        {
          "output_type": "stream",
          "text": [
            "--2021-01-04 10:02:26--  https://developer.nvidia.com/compute/cuda/9.0/Prod/local_installers/cuda-repo-ubuntu1704-9-0-local_9.0.176-1_amd64-deb\n",
            "Resolving developer.nvidia.com (developer.nvidia.com)... 152.199.0.24\n",
            "Connecting to developer.nvidia.com (developer.nvidia.com)|152.199.0.24|:443... connected.\n",
            "HTTP request sent, awaiting response... 302 Found\n",
            "Location: https://developer.download.nvidia.com/compute/cuda/9.0/secure/Prod/local_installers/cuda-repo-ubuntu1704-9-0-local_9.0.176-1_amd64.deb?51AO_SJ4bVNHl7ijelgWWouCfGs6E-A6gaU5cAPtU6yWYAugXvNTNaEWaj7rGCv9HBYIR3g3R2eHPMKy3rSwEshLGFbN93e2GsHRazxOID3n43qTIUXlviMkeydijHvhuHlVTrTjiEsm4Pfk4W_KwTVq2OG95lWIWSa4QAADU_jetfgdDAJXP4asVAQCc6CODQQ58x8Trh37J8ZC5ZSw [following]\n",
            "--2021-01-04 10:02:27--  https://developer.download.nvidia.com/compute/cuda/9.0/secure/Prod/local_installers/cuda-repo-ubuntu1704-9-0-local_9.0.176-1_amd64.deb?51AO_SJ4bVNHl7ijelgWWouCfGs6E-A6gaU5cAPtU6yWYAugXvNTNaEWaj7rGCv9HBYIR3g3R2eHPMKy3rSwEshLGFbN93e2GsHRazxOID3n43qTIUXlviMkeydijHvhuHlVTrTjiEsm4Pfk4W_KwTVq2OG95lWIWSa4QAADU_jetfgdDAJXP4asVAQCc6CODQQ58x8Trh37J8ZC5ZSw\n",
            "Resolving developer.download.nvidia.com (developer.download.nvidia.com)... 152.195.19.142\n",
            "Connecting to developer.download.nvidia.com (developer.download.nvidia.com)|152.195.19.142|:443... connected.\n",
            "HTTP request sent, awaiting response... 200 OK\n",
            "Length: 1216133170 (1.1G) [application/x-deb]\n",
            "Saving to: ‘cuda-repo-ubuntu1704-9-0-local_9.0.176-1_amd64-deb’\n",
            "\n",
            "cuda-repo-ubuntu170 100%[===================>]   1.13G  80.4MB/s    in 18s     \n",
            "\n",
            "2021-01-04 10:02:45 (64.1 MB/s) - ‘cuda-repo-ubuntu1704-9-0-local_9.0.176-1_amd64-deb’ saved [1216133170/1216133170]\n",
            "\n",
            "cuda-repo-ubuntu1704-9-0-local_9.0.176-1_amd64-deb  sample_submission.csv\n",
            "health-insurance-cross-sell-prediction.zip\t    test.csv\n",
            "kaggle.json\t\t\t\t\t    train.csv\n",
            "sample_data\n",
            "Selecting previously unselected package cuda-repo-ubuntu1704-9-0-local.\n",
            "(Reading database ... 145480 files and directories currently installed.)\n",
            "Preparing to unpack cuda-repo-ubuntu1704-9-0-local_9.0.176-1_amd64-deb ...\n",
            "Unpacking cuda-repo-ubuntu1704-9-0-local (9.0.176-1) ...\n",
            "Setting up cuda-repo-ubuntu1704-9-0-local (9.0.176-1) ...\n",
            "7fa2af80.pub\n",
            "OK\n",
            "Get:1 file:/var/cuda-repo-9-0-local  InRelease\n",
            "Ign:1 file:/var/cuda-repo-9-0-local  InRelease\n",
            "Get:2 file:/var/cuda-repo-9-0-local  Release [574 B]\n",
            "Get:2 file:/var/cuda-repo-9-0-local  Release [574 B]\n",
            "Get:3 file:/var/cuda-repo-9-0-local  Release.gpg [819 B]\n",
            "Get:3 file:/var/cuda-repo-9-0-local  Release.gpg [819 B]\n",
            "Get:4 http://security.ubuntu.com/ubuntu bionic-security InRelease [88.7 kB]\n",
            "Get:5 https://cloud.r-project.org/bin/linux/ubuntu bionic-cran40/ InRelease [3,626 B]\n",
            "Ign:6 https://developer.download.nvidia.com/compute/cuda/repos/ubuntu1804/x86_64  InRelease\n",
            "Ign:7 https://developer.download.nvidia.com/compute/machine-learning/repos/ubuntu1804/x86_64  InRelease\n",
            "Hit:8 https://developer.download.nvidia.com/compute/cuda/repos/ubuntu1804/x86_64  Release\n",
            "Hit:9 https://developer.download.nvidia.com/compute/machine-learning/repos/ubuntu1804/x86_64  Release\n",
            "Get:10 file:/var/cuda-repo-9-0-local  Packages [15.8 kB]\n",
            "Get:11 http://ppa.launchpad.net/c2d4u.team/c2d4u4.0+/ubuntu bionic InRelease [15.9 kB]\n",
            "Hit:12 http://archive.ubuntu.com/ubuntu bionic InRelease\n",
            "Get:13 http://archive.ubuntu.com/ubuntu bionic-updates InRelease [88.7 kB]\n",
            "Get:14 https://cloud.r-project.org/bin/linux/ubuntu bionic-cran40/ Packages [41.5 kB]\n",
            "Hit:16 http://ppa.launchpad.net/cran/libgit2/ubuntu bionic InRelease\n",
            "Get:17 http://archive.ubuntu.com/ubuntu bionic-backports InRelease [74.6 kB]\n",
            "Hit:19 http://ppa.launchpad.net/graphics-drivers/ppa/ubuntu bionic InRelease\n",
            "Get:20 http://ppa.launchpad.net/c2d4u.team/c2d4u4.0+/ubuntu bionic/main Sources [1,704 kB]\n",
            "Get:21 http://ppa.launchpad.net/c2d4u.team/c2d4u4.0+/ubuntu bionic/main amd64 Packages [873 kB]\n",
            "Fetched 2,890 kB in 3s (1,012 kB/s)\n",
            "Reading package lists... Done\n",
            "Reading package lists... Done\n",
            "Building dependency tree       \n",
            "Reading state information... Done\n",
            "Note, selecting 'cuda-9-0' for regex 'cuda-9.0'\n",
            "Note, selecting 'libcuda-9.0-1' for regex 'cuda-9.0'\n",
            "The following additional packages will be installed:\n",
            "  cuda-command-line-tools-9-0 cuda-core-9-0 cuda-cublas-9-0\n",
            "  cuda-cublas-dev-9-0 cuda-cudart-9-0 cuda-cudart-dev-9-0 cuda-cufft-9-0\n",
            "  cuda-cufft-dev-9-0 cuda-curand-9-0 cuda-curand-dev-9-0 cuda-cusolver-9-0\n",
            "  cuda-cusolver-dev-9-0 cuda-cusparse-9-0 cuda-cusparse-dev-9-0\n",
            "  cuda-demo-suite-9-0 cuda-documentation-9-0 cuda-driver-dev-9-0\n",
            "  cuda-libraries-9-0 cuda-libraries-dev-9-0 cuda-license-9-0\n",
            "  cuda-misc-headers-9-0 cuda-npp-9-0 cuda-npp-dev-9-0 cuda-nvgraph-9-0\n",
            "  cuda-nvgraph-dev-9-0 cuda-nvml-dev-9-0 cuda-nvrtc-9-0 cuda-nvrtc-dev-9-0\n",
            "  cuda-runtime-9-0 cuda-samples-9-0 cuda-toolkit-9-0 cuda-visual-tools-9-0\n",
            "The following NEW packages will be installed:\n",
            "  cuda-9-0 cuda-command-line-tools-9-0 cuda-core-9-0 cuda-cublas-9-0\n",
            "  cuda-cublas-dev-9-0 cuda-cudart-9-0 cuda-cudart-dev-9-0 cuda-cufft-9-0\n",
            "  cuda-cufft-dev-9-0 cuda-curand-9-0 cuda-curand-dev-9-0 cuda-cusolver-9-0\n",
            "  cuda-cusolver-dev-9-0 cuda-cusparse-9-0 cuda-cusparse-dev-9-0\n",
            "  cuda-demo-suite-9-0 cuda-documentation-9-0 cuda-driver-dev-9-0\n",
            "  cuda-libraries-9-0 cuda-libraries-dev-9-0 cuda-license-9-0\n",
            "  cuda-misc-headers-9-0 cuda-npp-9-0 cuda-npp-dev-9-0 cuda-nvgraph-9-0\n",
            "  cuda-nvgraph-dev-9-0 cuda-nvml-dev-9-0 cuda-nvrtc-9-0 cuda-nvrtc-dev-9-0\n",
            "  cuda-runtime-9-0 cuda-samples-9-0 cuda-toolkit-9-0 cuda-visual-tools-9-0\n",
            "0 upgraded, 33 newly installed, 0 to remove and 19 not upgraded.\n",
            "Need to get 0 B/1,097 MB of archives.\n",
            "After this operation, 2,315 MB of additional disk space will be used.\n",
            "Get:1 file:/var/cuda-repo-9-0-local  cuda-license-9-0 9.0.176-1 [22.0 kB]\n",
            "Get:2 file:/var/cuda-repo-9-0-local  cuda-misc-headers-9-0 9.0.176-1 [684 kB]\n",
            "Get:3 file:/var/cuda-repo-9-0-local  cuda-core-9-0 9.0.176-1 [16.9 MB]\n",
            "Get:4 file:/var/cuda-repo-9-0-local  cuda-cudart-9-0 9.0.176-1 [106 kB]\n",
            "Get:5 file:/var/cuda-repo-9-0-local  cuda-driver-dev-9-0 9.0.176-1 [10.9 kB]\n",
            "Get:6 file:/var/cuda-repo-9-0-local  cuda-cudart-dev-9-0 9.0.176-1 [767 kB]\n",
            "Get:7 file:/var/cuda-repo-9-0-local  cuda-command-line-tools-9-0 9.0.176-1 [25.4 MB]\n",
            "Get:8 file:/var/cuda-repo-9-0-local  cuda-nvrtc-9-0 9.0.176-1 [6,348 kB]\n",
            "Get:9 file:/var/cuda-repo-9-0-local  cuda-nvrtc-dev-9-0 9.0.176-1 [9,334 B]\n",
            "Get:10 file:/var/cuda-repo-9-0-local  cuda-cusolver-9-0 9.0.176-1 [26.2 MB]\n",
            "Get:11 file:/var/cuda-repo-9-0-local  cuda-cusolver-dev-9-0 9.0.176-1 [5,317 kB]\n",
            "Get:12 file:/var/cuda-repo-9-0-local  cuda-cublas-9-0 9.0.176-1 [25.0 MB]\n",
            "Get:13 file:/var/cuda-repo-9-0-local  cuda-cublas-dev-9-0 9.0.176-1 [49.4 MB]\n",
            "Get:14 file:/var/cuda-repo-9-0-local  cuda-cufft-9-0 9.0.176-1 [84.1 MB]\n",
            "Get:15 file:/var/cuda-repo-9-0-local  cuda-cufft-dev-9-0 9.0.176-1 [73.7 MB]\n",
            "Get:16 file:/var/cuda-repo-9-0-local  cuda-curand-9-0 9.0.176-1 [38.8 MB]\n",
            "Get:17 file:/var/cuda-repo-9-0-local  cuda-curand-dev-9-0 9.0.176-1 [57.9 MB]\n",
            "Get:18 file:/var/cuda-repo-9-0-local  cuda-cusparse-9-0 9.0.176-1 [25.2 MB]\n",
            "Get:19 file:/var/cuda-repo-9-0-local  cuda-cusparse-dev-9-0 9.0.176-1 [25.3 MB]\n",
            "Get:20 file:/var/cuda-repo-9-0-local  cuda-npp-9-0 9.0.176-1 [46.6 MB]\n",
            "Get:21 file:/var/cuda-repo-9-0-local  cuda-npp-dev-9-0 9.0.176-1 [46.6 MB]\n",
            "Get:22 file:/var/cuda-repo-9-0-local  cuda-nvgraph-9-0 9.0.176-1 [6,081 kB]\n",
            "Get:23 file:/var/cuda-repo-9-0-local  cuda-nvgraph-dev-9-0 9.0.176-1 [5,658 kB]\n",
            "Get:24 file:/var/cuda-repo-9-0-local  cuda-samples-9-0 9.0.176-1 [75.9 MB]\n",
            "Get:25 file:/var/cuda-repo-9-0-local  cuda-documentation-9-0 9.0.176-1 [53.1 MB]\n",
            "Get:26 file:/var/cuda-repo-9-0-local  cuda-libraries-dev-9-0 9.0.176-1 [2,596 B]\n",
            "Get:27 file:/var/cuda-repo-9-0-local  cuda-nvml-dev-9-0 9.0.176-1 [47.6 kB]\n",
            "Get:28 file:/var/cuda-repo-9-0-local  cuda-visual-tools-9-0 9.0.176-1 [398 MB]\n",
            "Get:29 file:/var/cuda-repo-9-0-local  cuda-toolkit-9-0 9.0.176-1 [2,836 B]\n",
            "Get:30 file:/var/cuda-repo-9-0-local  cuda-libraries-9-0 9.0.176-1 [2,566 B]\n",
            "Get:31 file:/var/cuda-repo-9-0-local  cuda-runtime-9-0 9.0.176-1 [2,526 B]\n",
            "Get:32 file:/var/cuda-repo-9-0-local  cuda-demo-suite-9-0 9.0.176-1 [3,880 kB]\n",
            "Get:33 file:/var/cuda-repo-9-0-local  cuda-9-0 9.0.176-1 [2,552 B]\n",
            "debconf: unable to initialize frontend: Dialog\n",
            "debconf: (No usable dialog-like program is installed, so the dialog based frontend cannot be used. at /usr/share/perl5/Debconf/FrontEnd/Dialog.pm line 76, <> line 33.)\n",
            "debconf: falling back to frontend: Readline\n",
            "debconf: unable to initialize frontend: Readline\n",
            "debconf: (This frontend requires a controlling tty.)\n",
            "debconf: falling back to frontend: Teletype\n",
            "dpkg-preconfigure: unable to re-open stdin: \n",
            "Selecting previously unselected package cuda-license-9-0.\n",
            "(Reading database ... 145539 files and directories currently installed.)\n",
            "Preparing to unpack .../00-cuda-license-9-0_9.0.176-1_amd64.deb ...\n",
            "Unpacking cuda-license-9-0 (9.0.176-1) ...\n",
            "Selecting previously unselected package cuda-misc-headers-9-0.\n",
            "Preparing to unpack .../01-cuda-misc-headers-9-0_9.0.176-1_amd64.deb ...\n",
            "Unpacking cuda-misc-headers-9-0 (9.0.176-1) ...\n",
            "Selecting previously unselected package cuda-core-9-0.\n",
            "Preparing to unpack .../02-cuda-core-9-0_9.0.176-1_amd64.deb ...\n",
            "Unpacking cuda-core-9-0 (9.0.176-1) ...\n",
            "Selecting previously unselected package cuda-cudart-9-0.\n",
            "Preparing to unpack .../03-cuda-cudart-9-0_9.0.176-1_amd64.deb ...\n",
            "Unpacking cuda-cudart-9-0 (9.0.176-1) ...\n",
            "Selecting previously unselected package cuda-driver-dev-9-0.\n",
            "Preparing to unpack .../04-cuda-driver-dev-9-0_9.0.176-1_amd64.deb ...\n",
            "Unpacking cuda-driver-dev-9-0 (9.0.176-1) ...\n",
            "Selecting previously unselected package cuda-cudart-dev-9-0.\n",
            "Preparing to unpack .../05-cuda-cudart-dev-9-0_9.0.176-1_amd64.deb ...\n",
            "Unpacking cuda-cudart-dev-9-0 (9.0.176-1) ...\n",
            "Selecting previously unselected package cuda-command-line-tools-9-0.\n",
            "Preparing to unpack .../06-cuda-command-line-tools-9-0_9.0.176-1_amd64.deb ...\n",
            "Unpacking cuda-command-line-tools-9-0 (9.0.176-1) ...\n",
            "Selecting previously unselected package cuda-nvrtc-9-0.\n",
            "Preparing to unpack .../07-cuda-nvrtc-9-0_9.0.176-1_amd64.deb ...\n",
            "Unpacking cuda-nvrtc-9-0 (9.0.176-1) ...\n",
            "Selecting previously unselected package cuda-nvrtc-dev-9-0.\n",
            "Preparing to unpack .../08-cuda-nvrtc-dev-9-0_9.0.176-1_amd64.deb ...\n",
            "Unpacking cuda-nvrtc-dev-9-0 (9.0.176-1) ...\n",
            "Selecting previously unselected package cuda-cusolver-9-0.\n",
            "Preparing to unpack .../09-cuda-cusolver-9-0_9.0.176-1_amd64.deb ...\n",
            "Unpacking cuda-cusolver-9-0 (9.0.176-1) ...\n",
            "Selecting previously unselected package cuda-cusolver-dev-9-0.\n",
            "Preparing to unpack .../10-cuda-cusolver-dev-9-0_9.0.176-1_amd64.deb ...\n",
            "Unpacking cuda-cusolver-dev-9-0 (9.0.176-1) ...\n",
            "Selecting previously unselected package cuda-cublas-9-0.\n",
            "Preparing to unpack .../11-cuda-cublas-9-0_9.0.176-1_amd64.deb ...\n",
            "Unpacking cuda-cublas-9-0 (9.0.176-1) ...\n",
            "Selecting previously unselected package cuda-cublas-dev-9-0.\n",
            "Preparing to unpack .../12-cuda-cublas-dev-9-0_9.0.176-1_amd64.deb ...\n",
            "Unpacking cuda-cublas-dev-9-0 (9.0.176-1) ...\n",
            "Selecting previously unselected package cuda-cufft-9-0.\n",
            "Preparing to unpack .../13-cuda-cufft-9-0_9.0.176-1_amd64.deb ...\n",
            "Unpacking cuda-cufft-9-0 (9.0.176-1) ...\n",
            "Selecting previously unselected package cuda-cufft-dev-9-0.\n",
            "Preparing to unpack .../14-cuda-cufft-dev-9-0_9.0.176-1_amd64.deb ...\n",
            "Unpacking cuda-cufft-dev-9-0 (9.0.176-1) ...\n",
            "Selecting previously unselected package cuda-curand-9-0.\n",
            "Preparing to unpack .../15-cuda-curand-9-0_9.0.176-1_amd64.deb ...\n",
            "Unpacking cuda-curand-9-0 (9.0.176-1) ...\n",
            "Selecting previously unselected package cuda-curand-dev-9-0.\n",
            "Preparing to unpack .../16-cuda-curand-dev-9-0_9.0.176-1_amd64.deb ...\n",
            "Unpacking cuda-curand-dev-9-0 (9.0.176-1) ...\n",
            "Selecting previously unselected package cuda-cusparse-9-0.\n",
            "Preparing to unpack .../17-cuda-cusparse-9-0_9.0.176-1_amd64.deb ...\n",
            "Unpacking cuda-cusparse-9-0 (9.0.176-1) ...\n",
            "Selecting previously unselected package cuda-cusparse-dev-9-0.\n",
            "Preparing to unpack .../18-cuda-cusparse-dev-9-0_9.0.176-1_amd64.deb ...\n",
            "Unpacking cuda-cusparse-dev-9-0 (9.0.176-1) ...\n",
            "Selecting previously unselected package cuda-npp-9-0.\n",
            "Preparing to unpack .../19-cuda-npp-9-0_9.0.176-1_amd64.deb ...\n",
            "Unpacking cuda-npp-9-0 (9.0.176-1) ...\n",
            "Selecting previously unselected package cuda-npp-dev-9-0.\n",
            "Preparing to unpack .../20-cuda-npp-dev-9-0_9.0.176-1_amd64.deb ...\n",
            "Unpacking cuda-npp-dev-9-0 (9.0.176-1) ...\n",
            "Selecting previously unselected package cuda-nvgraph-9-0.\n",
            "Preparing to unpack .../21-cuda-nvgraph-9-0_9.0.176-1_amd64.deb ...\n",
            "Unpacking cuda-nvgraph-9-0 (9.0.176-1) ...\n",
            "Selecting previously unselected package cuda-nvgraph-dev-9-0.\n",
            "Preparing to unpack .../22-cuda-nvgraph-dev-9-0_9.0.176-1_amd64.deb ...\n",
            "Unpacking cuda-nvgraph-dev-9-0 (9.0.176-1) ...\n",
            "Selecting previously unselected package cuda-samples-9-0.\n",
            "Preparing to unpack .../23-cuda-samples-9-0_9.0.176-1_amd64.deb ...\n",
            "Unpacking cuda-samples-9-0 (9.0.176-1) ...\n",
            "Selecting previously unselected package cuda-documentation-9-0.\n",
            "Preparing to unpack .../24-cuda-documentation-9-0_9.0.176-1_amd64.deb ...\n",
            "Unpacking cuda-documentation-9-0 (9.0.176-1) ...\n",
            "Selecting previously unselected package cuda-libraries-dev-9-0.\n",
            "Preparing to unpack .../25-cuda-libraries-dev-9-0_9.0.176-1_amd64.deb ...\n",
            "Unpacking cuda-libraries-dev-9-0 (9.0.176-1) ...\n",
            "Selecting previously unselected package cuda-nvml-dev-9-0.\n",
            "Preparing to unpack .../26-cuda-nvml-dev-9-0_9.0.176-1_amd64.deb ...\n",
            "Unpacking cuda-nvml-dev-9-0 (9.0.176-1) ...\n",
            "Selecting previously unselected package cuda-visual-tools-9-0.\n",
            "Preparing to unpack .../27-cuda-visual-tools-9-0_9.0.176-1_amd64.deb ...\n",
            "Unpacking cuda-visual-tools-9-0 (9.0.176-1) ...\n",
            "Selecting previously unselected package cuda-toolkit-9-0.\n",
            "Preparing to unpack .../28-cuda-toolkit-9-0_9.0.176-1_amd64.deb ...\n",
            "Unpacking cuda-toolkit-9-0 (9.0.176-1) ...\n",
            "Selecting previously unselected package cuda-libraries-9-0.\n",
            "Preparing to unpack .../29-cuda-libraries-9-0_9.0.176-1_amd64.deb ...\n",
            "Unpacking cuda-libraries-9-0 (9.0.176-1) ...\n",
            "Selecting previously unselected package cuda-runtime-9-0.\n",
            "Preparing to unpack .../30-cuda-runtime-9-0_9.0.176-1_amd64.deb ...\n",
            "Unpacking cuda-runtime-9-0 (9.0.176-1) ...\n",
            "Selecting previously unselected package cuda-demo-suite-9-0.\n",
            "Preparing to unpack .../31-cuda-demo-suite-9-0_9.0.176-1_amd64.deb ...\n",
            "Unpacking cuda-demo-suite-9-0 (9.0.176-1) ...\n",
            "Selecting previously unselected package cuda-9-0.\n",
            "Preparing to unpack .../32-cuda-9-0_9.0.176-1_amd64.deb ...\n",
            "Unpacking cuda-9-0 (9.0.176-1) ...\n",
            "Setting up cuda-license-9-0 (9.0.176-1) ...\n",
            "*** LICENSE AGREEMENT ***\n",
            "By using this software you agree to fully comply with the terms and \n",
            "conditions of the EULA (End User License Agreement). The EULA is located\n",
            "at /usr/local/cuda-9.0/doc/EULA.txt. The EULA can also be found at\n",
            "http://docs.nvidia.com/cuda/eula/index.html. If you do not agree to the\n",
            "terms and conditions of the EULA, do not use the software.\n",
            "\n",
            "Setting up cuda-cusparse-9-0 (9.0.176-1) ...\n",
            "Setting up cuda-cudart-9-0 (9.0.176-1) ...\n",
            "Setting up cuda-nvrtc-9-0 (9.0.176-1) ...\n",
            "Setting up cuda-cusparse-dev-9-0 (9.0.176-1) ...\n",
            "Setting up cuda-cufft-9-0 (9.0.176-1) ...\n",
            "Setting up cuda-cusolver-9-0 (9.0.176-1) ...\n",
            "Setting up cuda-nvml-dev-9-0 (9.0.176-1) ...\n",
            "Setting up cuda-npp-9-0 (9.0.176-1) ...\n",
            "Setting up cuda-cusolver-dev-9-0 (9.0.176-1) ...\n",
            "Setting up cuda-misc-headers-9-0 (9.0.176-1) ...\n",
            "Setting up cuda-cublas-9-0 (9.0.176-1) ...\n",
            "Setting up cuda-nvrtc-dev-9-0 (9.0.176-1) ...\n",
            "Setting up cuda-driver-dev-9-0 (9.0.176-1) ...\n",
            "Setting up cuda-curand-9-0 (9.0.176-1) ...\n",
            "Setting up cuda-nvgraph-9-0 (9.0.176-1) ...\n",
            "Setting up cuda-core-9-0 (9.0.176-1) ...\n",
            "Setting up cuda-libraries-9-0 (9.0.176-1) ...\n",
            "Setting up cuda-runtime-9-0 (9.0.176-1) ...\n",
            "Setting up cuda-cudart-dev-9-0 (9.0.176-1) ...\n",
            "Setting up cuda-cufft-dev-9-0 (9.0.176-1) ...\n",
            "Setting up cuda-npp-dev-9-0 (9.0.176-1) ...\n",
            "Setting up cuda-curand-dev-9-0 (9.0.176-1) ...\n",
            "Setting up cuda-cublas-dev-9-0 (9.0.176-1) ...\n",
            "Setting up cuda-nvgraph-dev-9-0 (9.0.176-1) ...\n",
            "Setting up cuda-command-line-tools-9-0 (9.0.176-1) ...\n",
            "Setting up cuda-demo-suite-9-0 (9.0.176-1) ...\n",
            "Setting up cuda-visual-tools-9-0 (9.0.176-1) ...\n",
            "Setting up cuda-samples-9-0 (9.0.176-1) ...\n",
            "Setting up cuda-libraries-dev-9-0 (9.0.176-1) ...\n",
            "Setting up cuda-documentation-9-0 (9.0.176-1) ...\n",
            "Setting up cuda-toolkit-9-0 (9.0.176-1) ...\n",
            "Setting up cuda-9-0 (9.0.176-1) ...\n",
            "Processing triggers for libc-bin (2.27-3ubuntu1.2) ...\n",
            "/sbin/ldconfig.real: /usr/local/lib/python3.6/dist-packages/ideep4py/lib/libmkldnn.so.0 is not a symbolic link\n",
            "\n"
          ],
          "name": "stdout"
        }
      ]
    },
    {
      "cell_type": "code",
      "metadata": {
        "colab": {
          "base_uri": "https://localhost:8080/"
        },
        "id": "QvYiy5CiFpsr",
        "outputId": "baad391d-a0e0-40fa-9568-b9e43c17cdbc"
      },
      "source": [
        "!nvcc --version"
      ],
      "execution_count": null,
      "outputs": [
        {
          "output_type": "stream",
          "text": [
            "nvcc: NVIDIA (R) Cuda compiler driver\n",
            "Copyright (c) 2005-2017 NVIDIA Corporation\n",
            "Built on Fri_Sep__1_21:08:03_CDT_2017\n",
            "Cuda compilation tools, release 9.0, V9.0.176\n"
          ],
          "name": "stdout"
        }
      ]
    },
    {
      "cell_type": "code",
      "metadata": {
        "colab": {
          "base_uri": "https://localhost:8080/"
        },
        "id": "uG2BmfC0Fu2e",
        "outputId": "04ef214c-0a99-4b59-ca87-7bb9871f05f2"
      },
      "source": [
        "!pip install thundersvm"
      ],
      "execution_count": null,
      "outputs": [
        {
          "output_type": "stream",
          "text": [
            "Collecting thundersvm\n",
            "\u001b[?25l  Downloading https://files.pythonhosted.org/packages/7d/16/281a54f6d1f70c59df242f2f93e5cc04daf01b9c9809c2b154d15ea6a346/thundersvm-0.3.12-py3-none-any.whl (507kB)\n",
            "\r\u001b[K     |▋                               | 10kB 27.4MB/s eta 0:00:01\r\u001b[K     |█▎                              | 20kB 17.0MB/s eta 0:00:01\r\u001b[K     |██                              | 30kB 11.1MB/s eta 0:00:01\r\u001b[K     |██▋                             | 40kB 9.3MB/s eta 0:00:01\r\u001b[K     |███▎                            | 51kB 4.9MB/s eta 0:00:01\r\u001b[K     |███▉                            | 61kB 5.1MB/s eta 0:00:01\r\u001b[K     |████▌                           | 71kB 5.7MB/s eta 0:00:01\r\u001b[K     |█████▏                          | 81kB 6.1MB/s eta 0:00:01\r\u001b[K     |█████▉                          | 92kB 6.0MB/s eta 0:00:01\r\u001b[K     |██████▌                         | 102kB 4.8MB/s eta 0:00:01\r\u001b[K     |███████                         | 112kB 4.8MB/s eta 0:00:01\r\u001b[K     |███████▊                        | 122kB 4.8MB/s eta 0:00:01\r\u001b[K     |████████▍                       | 133kB 4.8MB/s eta 0:00:01\r\u001b[K     |█████████                       | 143kB 4.8MB/s eta 0:00:01\r\u001b[K     |█████████▊                      | 153kB 4.8MB/s eta 0:00:01\r\u001b[K     |██████████▍                     | 163kB 4.8MB/s eta 0:00:01\r\u001b[K     |███████████                     | 174kB 4.8MB/s eta 0:00:01\r\u001b[K     |███████████▋                    | 184kB 4.8MB/s eta 0:00:01\r\u001b[K     |████████████▎                   | 194kB 4.8MB/s eta 0:00:01\r\u001b[K     |█████████████                   | 204kB 4.8MB/s eta 0:00:01\r\u001b[K     |█████████████▋                  | 215kB 4.8MB/s eta 0:00:01\r\u001b[K     |██████████████▏                 | 225kB 4.8MB/s eta 0:00:01\r\u001b[K     |██████████████▉                 | 235kB 4.8MB/s eta 0:00:01\r\u001b[K     |███████████████▌                | 245kB 4.8MB/s eta 0:00:01\r\u001b[K     |████████████████▏               | 256kB 4.8MB/s eta 0:00:01\r\u001b[K     |████████████████▉               | 266kB 4.8MB/s eta 0:00:01\r\u001b[K     |█████████████████▍              | 276kB 4.8MB/s eta 0:00:01\r\u001b[K     |██████████████████              | 286kB 4.8MB/s eta 0:00:01\r\u001b[K     |██████████████████▊             | 296kB 4.8MB/s eta 0:00:01\r\u001b[K     |███████████████████▍            | 307kB 4.8MB/s eta 0:00:01\r\u001b[K     |████████████████████            | 317kB 4.8MB/s eta 0:00:01\r\u001b[K     |████████████████████▊           | 327kB 4.8MB/s eta 0:00:01\r\u001b[K     |█████████████████████▎          | 337kB 4.8MB/s eta 0:00:01\r\u001b[K     |██████████████████████          | 348kB 4.8MB/s eta 0:00:01\r\u001b[K     |██████████████████████▋         | 358kB 4.8MB/s eta 0:00:01\r\u001b[K     |███████████████████████▎        | 368kB 4.8MB/s eta 0:00:01\r\u001b[K     |████████████████████████        | 378kB 4.8MB/s eta 0:00:01\r\u001b[K     |████████████████████████▌       | 389kB 4.8MB/s eta 0:00:01\r\u001b[K     |█████████████████████████▏      | 399kB 4.8MB/s eta 0:00:01\r\u001b[K     |█████████████████████████▉      | 409kB 4.8MB/s eta 0:00:01\r\u001b[K     |██████████████████████████▌     | 419kB 4.8MB/s eta 0:00:01\r\u001b[K     |███████████████████████████▏    | 430kB 4.8MB/s eta 0:00:01\r\u001b[K     |███████████████████████████▊    | 440kB 4.8MB/s eta 0:00:01\r\u001b[K     |████████████████████████████▍   | 450kB 4.8MB/s eta 0:00:01\r\u001b[K     |█████████████████████████████   | 460kB 4.8MB/s eta 0:00:01\r\u001b[K     |█████████████████████████████▊  | 471kB 4.8MB/s eta 0:00:01\r\u001b[K     |██████████████████████████████▍ | 481kB 4.8MB/s eta 0:00:01\r\u001b[K     |███████████████████████████████ | 491kB 4.8MB/s eta 0:00:01\r\u001b[K     |███████████████████████████████▋| 501kB 4.8MB/s eta 0:00:01\r\u001b[K     |████████████████████████████████| 512kB 4.8MB/s \n",
            "\u001b[?25hRequirement already satisfied: scipy in /usr/local/lib/python3.6/dist-packages (from thundersvm) (1.4.1)\n",
            "Requirement already satisfied: numpy in /usr/local/lib/python3.6/dist-packages (from thundersvm) (1.19.4)\n",
            "Requirement already satisfied: scikit-learn in /usr/local/lib/python3.6/dist-packages (from thundersvm) (0.22.2.post1)\n",
            "Requirement already satisfied: joblib>=0.11 in /usr/local/lib/python3.6/dist-packages (from scikit-learn->thundersvm) (1.0.0)\n",
            "Installing collected packages: thundersvm\n",
            "Successfully installed thundersvm-0.3.12\n"
          ],
          "name": "stdout"
        }
      ]
    },
    {
      "cell_type": "markdown",
      "metadata": {
        "id": "Ej5ALBcz6NNk"
      },
      "source": [
        "# Imports\r\n",
        "\r\n",
        "Import some useful libraries."
      ]
    },
    {
      "cell_type": "code",
      "metadata": {
        "colab": {
          "base_uri": "https://localhost:8080/"
        },
        "id": "Hv2z7Vm36Cv8",
        "outputId": "7fb838f0-7735-46ac-de51-4d36bd9e38d7"
      },
      "source": [
        "# utils\r\n",
        "import pandas as pd # Data reader\r\n",
        "import numpy as np # Linear algebra\r\n",
        "import matplotlib.pyplot as plt # Visualization\r\n",
        "import seaborn as sns # Visualization\r\n",
        "from mpl_toolkits.mplot3d import Axes3D\r\n",
        "\r\n",
        "# models - ML based\r\n",
        "from sklearn.neighbors import KNeighborsClassifier # KNN\r\n",
        "from sklearn.svm import SVC # SVM\r\n",
        "from sklearn.tree import DecisionTreeClassifier # Decision Tree\r\n",
        "# import thundersvm\r\n",
        "\r\n",
        "# models - NN based\r\n",
        "from sklearn.neural_network import MLPClassifier # Sklearn MLP\r\n",
        "from keras.models import Sequential # Model\r\n",
        "from keras.layers import Dense, Dropout # Layers\r\n",
        "from keras.callbacks import EarlyStopping\r\n",
        "from keras.optimizers import Adam # Optimizer\r\n",
        "\r\n",
        "# Additionals\r\n",
        "from sklearn.preprocessing import MinMaxScaler, OrdinalEncoder # Normalization, Encoder\r\n",
        "from sklearn.model_selection import train_test_split, GridSearchCV # Data splitter\r\n",
        "from sklearn.feature_selection import SelectKBest, f_classif, mutual_info_classif # ANOVA based feature selection\r\n",
        "from functools import partial\r\n",
        "from sklearn.metrics import f1_score, accuracy_score, roc_auc_score, confusion_matrix, classification_report, precision_score\r\n",
        "import time\r\n",
        "from imblearn.over_sampling import SMOTE\r\n",
        "from imblearn.under_sampling import RandomUnderSampler\r\n",
        "from sklearn.manifold import TSNE\r\n",
        "from sklearn.decomposition import PCA\r\n",
        "import itertools\r\n",
        "from sklearn.metrics import precision_recall_fscore_support as score\r\n",
        "from sklearn import tree"
      ],
      "execution_count": 4,
      "outputs": [
        {
          "output_type": "stream",
          "text": [
            "/usr/local/lib/python3.6/dist-packages/sklearn/externals/six.py:31: FutureWarning: The module is deprecated in version 0.21 and will be removed in version 0.23 since we've dropped support for Python 2.7. Please rely on the official version of six (https://pypi.org/project/six/).\n",
            "  \"(https://pypi.org/project/six/).\", FutureWarning)\n",
            "/usr/local/lib/python3.6/dist-packages/sklearn/utils/deprecation.py:144: FutureWarning: The sklearn.neighbors.base module is  deprecated in version 0.22 and will be removed in version 0.24. The corresponding classes / functions should instead be imported from sklearn.neighbors. Anything that cannot be imported from sklearn.neighbors is now part of the private API.\n",
            "  warnings.warn(message, FutureWarning)\n"
          ],
          "name": "stderr"
        }
      ]
    },
    {
      "cell_type": "markdown",
      "metadata": {
        "id": "fyxTP8Hu-2bp"
      },
      "source": [
        "# Load Data"
      ]
    },
    {
      "cell_type": "markdown",
      "metadata": {
        "id": "W52G3WfIj92l"
      },
      "source": [
        "Load data menggunakan library pandas"
      ]
    },
    {
      "cell_type": "code",
      "metadata": {
        "colab": {
          "base_uri": "https://localhost:8080/",
          "height": 224
        },
        "id": "lxY7R3xr-3j5",
        "outputId": "f45976bb-3fef-4e1a-8aa5-069383cab213"
      },
      "source": [
        "df = pd.read_csv('train.csv')\r\n",
        "df.head()"
      ],
      "execution_count": 18,
      "outputs": [
        {
          "output_type": "execute_result",
          "data": {
            "text/html": [
              "<div>\n",
              "<style scoped>\n",
              "    .dataframe tbody tr th:only-of-type {\n",
              "        vertical-align: middle;\n",
              "    }\n",
              "\n",
              "    .dataframe tbody tr th {\n",
              "        vertical-align: top;\n",
              "    }\n",
              "\n",
              "    .dataframe thead th {\n",
              "        text-align: right;\n",
              "    }\n",
              "</style>\n",
              "<table border=\"1\" class=\"dataframe\">\n",
              "  <thead>\n",
              "    <tr style=\"text-align: right;\">\n",
              "      <th></th>\n",
              "      <th>id</th>\n",
              "      <th>Gender</th>\n",
              "      <th>Age</th>\n",
              "      <th>Driving_License</th>\n",
              "      <th>Region_Code</th>\n",
              "      <th>Previously_Insured</th>\n",
              "      <th>Vehicle_Age</th>\n",
              "      <th>Vehicle_Damage</th>\n",
              "      <th>Annual_Premium</th>\n",
              "      <th>Policy_Sales_Channel</th>\n",
              "      <th>Vintage</th>\n",
              "      <th>Response</th>\n",
              "    </tr>\n",
              "  </thead>\n",
              "  <tbody>\n",
              "    <tr>\n",
              "      <th>0</th>\n",
              "      <td>1</td>\n",
              "      <td>Male</td>\n",
              "      <td>44</td>\n",
              "      <td>1</td>\n",
              "      <td>28.0</td>\n",
              "      <td>0</td>\n",
              "      <td>&gt; 2 Years</td>\n",
              "      <td>Yes</td>\n",
              "      <td>40454.0</td>\n",
              "      <td>26.0</td>\n",
              "      <td>217</td>\n",
              "      <td>1</td>\n",
              "    </tr>\n",
              "    <tr>\n",
              "      <th>1</th>\n",
              "      <td>2</td>\n",
              "      <td>Male</td>\n",
              "      <td>76</td>\n",
              "      <td>1</td>\n",
              "      <td>3.0</td>\n",
              "      <td>0</td>\n",
              "      <td>1-2 Year</td>\n",
              "      <td>No</td>\n",
              "      <td>33536.0</td>\n",
              "      <td>26.0</td>\n",
              "      <td>183</td>\n",
              "      <td>0</td>\n",
              "    </tr>\n",
              "    <tr>\n",
              "      <th>2</th>\n",
              "      <td>3</td>\n",
              "      <td>Male</td>\n",
              "      <td>47</td>\n",
              "      <td>1</td>\n",
              "      <td>28.0</td>\n",
              "      <td>0</td>\n",
              "      <td>&gt; 2 Years</td>\n",
              "      <td>Yes</td>\n",
              "      <td>38294.0</td>\n",
              "      <td>26.0</td>\n",
              "      <td>27</td>\n",
              "      <td>1</td>\n",
              "    </tr>\n",
              "    <tr>\n",
              "      <th>3</th>\n",
              "      <td>4</td>\n",
              "      <td>Male</td>\n",
              "      <td>21</td>\n",
              "      <td>1</td>\n",
              "      <td>11.0</td>\n",
              "      <td>1</td>\n",
              "      <td>&lt; 1 Year</td>\n",
              "      <td>No</td>\n",
              "      <td>28619.0</td>\n",
              "      <td>152.0</td>\n",
              "      <td>203</td>\n",
              "      <td>0</td>\n",
              "    </tr>\n",
              "    <tr>\n",
              "      <th>4</th>\n",
              "      <td>5</td>\n",
              "      <td>Female</td>\n",
              "      <td>29</td>\n",
              "      <td>1</td>\n",
              "      <td>41.0</td>\n",
              "      <td>1</td>\n",
              "      <td>&lt; 1 Year</td>\n",
              "      <td>No</td>\n",
              "      <td>27496.0</td>\n",
              "      <td>152.0</td>\n",
              "      <td>39</td>\n",
              "      <td>0</td>\n",
              "    </tr>\n",
              "  </tbody>\n",
              "</table>\n",
              "</div>"
            ],
            "text/plain": [
              "   id  Gender  Age  ...  Policy_Sales_Channel  Vintage  Response\n",
              "0   1    Male   44  ...                  26.0      217         1\n",
              "1   2    Male   76  ...                  26.0      183         0\n",
              "2   3    Male   47  ...                  26.0       27         1\n",
              "3   4    Male   21  ...                 152.0      203         0\n",
              "4   5  Female   29  ...                 152.0       39         0\n",
              "\n",
              "[5 rows x 12 columns]"
            ]
          },
          "metadata": {
            "tags": []
          },
          "execution_count": 18
        }
      ]
    },
    {
      "cell_type": "markdown",
      "metadata": {
        "id": "Fjd1p5hHkAwl"
      },
      "source": [
        "Mengecek apakah data ada yang duplikat"
      ]
    },
    {
      "cell_type": "code",
      "metadata": {
        "colab": {
          "base_uri": "https://localhost:8080/"
        },
        "id": "lC6RAcnhjVs2",
        "outputId": "d3c4ada7-026e-4a0a-94cc-6f3b0b9528a9"
      },
      "source": [
        "df.duplicated().sum()"
      ],
      "execution_count": 142,
      "outputs": [
        {
          "output_type": "execute_result",
          "data": {
            "text/plain": [
              "0"
            ]
          },
          "metadata": {
            "tags": []
          },
          "execution_count": 142
        }
      ]
    },
    {
      "cell_type": "markdown",
      "metadata": {
        "id": "EyGscig9kFB6"
      },
      "source": [
        "Mengecek missing value"
      ]
    },
    {
      "cell_type": "code",
      "metadata": {
        "colab": {
          "base_uri": "https://localhost:8080/"
        },
        "id": "Atsct_j6__7V",
        "outputId": "b17c27ff-4642-4d72-cfcf-1e59e2f72098"
      },
      "source": [
        "df.isna().sum()"
      ],
      "execution_count": 7,
      "outputs": [
        {
          "output_type": "execute_result",
          "data": {
            "text/plain": [
              "id                      0\n",
              "Gender                  0\n",
              "Age                     0\n",
              "Driving_License         0\n",
              "Region_Code             0\n",
              "Previously_Insured      0\n",
              "Vehicle_Age             0\n",
              "Vehicle_Damage          0\n",
              "Annual_Premium          0\n",
              "Policy_Sales_Channel    0\n",
              "Vintage                 0\n",
              "Response                0\n",
              "dtype: int64"
            ]
          },
          "metadata": {
            "tags": []
          },
          "execution_count": 7
        }
      ]
    },
    {
      "cell_type": "markdown",
      "metadata": {
        "id": "kKERY_4dkHOp"
      },
      "source": [
        "Mengecek tipe-tipe data pada kolom"
      ]
    },
    {
      "cell_type": "code",
      "metadata": {
        "colab": {
          "base_uri": "https://localhost:8080/"
        },
        "id": "6kecXv_H_rhw",
        "outputId": "1a3d6f49-6d25-4922-cd8d-0135c0b54b32"
      },
      "source": [
        "df.info()"
      ],
      "execution_count": null,
      "outputs": [
        {
          "output_type": "stream",
          "text": [
            "<class 'pandas.core.frame.DataFrame'>\n",
            "RangeIndex: 381109 entries, 0 to 381108\n",
            "Data columns (total 12 columns):\n",
            " #   Column                Non-Null Count   Dtype  \n",
            "---  ------                --------------   -----  \n",
            " 0   id                    381109 non-null  int64  \n",
            " 1   Gender                381109 non-null  object \n",
            " 2   Age                   381109 non-null  int64  \n",
            " 3   Driving_License       381109 non-null  int64  \n",
            " 4   Region_Code           381109 non-null  float64\n",
            " 5   Previously_Insured    381109 non-null  int64  \n",
            " 6   Vehicle_Age           381109 non-null  object \n",
            " 7   Vehicle_Damage        381109 non-null  object \n",
            " 8   Annual_Premium        381109 non-null  float64\n",
            " 9   Policy_Sales_Channel  381109 non-null  float64\n",
            " 10  Vintage               381109 non-null  int64  \n",
            " 11  Response              381109 non-null  int64  \n",
            "dtypes: float64(3), int64(6), object(3)\n",
            "memory usage: 34.9+ MB\n"
          ],
          "name": "stdout"
        }
      ]
    },
    {
      "cell_type": "markdown",
      "metadata": {
        "id": "N9k9d4lVBhhE"
      },
      "source": [
        "**Terlihat bahwa data tidak memiliki missing value. Maka, handling terhadap missing value tidak perlu dilakukan**<br>\r\n",
        "**Data terdiri 11 kolom dengan 1 kolom target `Response`, 9 kolom fitur, dan 1 kolom id yang dapat diabaikan**"
      ]
    },
    {
      "cell_type": "markdown",
      "metadata": {
        "id": "Uh6EelJxCUZV"
      },
      "source": [
        "# EDA"
      ]
    },
    {
      "cell_type": "markdown",
      "metadata": {
        "id": "zEg-wTD4kQqZ"
      },
      "source": [
        "Mengecek jumlah data pada masing-masing kelas target"
      ]
    },
    {
      "cell_type": "code",
      "metadata": {
        "colab": {
          "base_uri": "https://localhost:8080/"
        },
        "id": "w86JJlqQ6Ojo",
        "outputId": "9c59c41d-0915-4878-da96-b2469dec2488"
      },
      "source": [
        "df['Response'].value_counts()"
      ],
      "execution_count": 14,
      "outputs": [
        {
          "output_type": "execute_result",
          "data": {
            "text/plain": [
              "0    334399\n",
              "1     46710\n",
              "Name: Response, dtype: int64"
            ]
          },
          "metadata": {
            "tags": []
          },
          "execution_count": 14
        }
      ]
    },
    {
      "cell_type": "code",
      "metadata": {
        "colab": {
          "base_uri": "https://localhost:8080/",
          "height": 354
        },
        "id": "QaNbgluA_9Cm",
        "outputId": "3b97dc54-664d-495d-89e5-207fb76b9ffd"
      },
      "source": [
        "sns.countplot(df['Response'])"
      ],
      "execution_count": 8,
      "outputs": [
        {
          "output_type": "stream",
          "text": [
            "/usr/local/lib/python3.6/dist-packages/seaborn/_decorators.py:43: FutureWarning: Pass the following variable as a keyword arg: x. From version 0.12, the only valid positional argument will be `data`, and passing other arguments without an explicit keyword will result in an error or misinterpretation.\n",
            "  FutureWarning\n"
          ],
          "name": "stderr"
        },
        {
          "output_type": "execute_result",
          "data": {
            "text/plain": [
              "<matplotlib.axes._subplots.AxesSubplot at 0x7f80218692b0>"
            ]
          },
          "metadata": {
            "tags": []
          },
          "execution_count": 8
        },
        {
          "output_type": "display_data",
          "data": {
            "image/png": "[encoded data removed]",
            "text/plain": [
              "<Figure size 432x288 with 1 Axes>"
            ]
          },
          "metadata": {
            "tags": [],
            "needs_background": "light"
          }
        }
      ]
    },
    {
      "cell_type": "markdown",
      "metadata": {
        "id": "v6tx4NZNDpSe"
      },
      "source": [
        "Dari countplot di atas dapat terlihat bahwa data lebih banyak memiliki target `0` atau `False`. Hal ini dapat menyebabkan model bias terhadap kelas tersebut. Ketidakrataan ini dapat diatasi dengan menyetarakan jumlah data pada kedua kelas."
      ]
    },
    {
      "cell_type": "markdown",
      "metadata": {
        "id": "PG4YukaVkXH4"
      },
      "source": [
        "Melihat distribusi umur pada masing-masing kelas"
      ]
    },
    {
      "cell_type": "code",
      "metadata": {
        "colab": {
          "base_uri": "https://localhost:8080/",
          "height": 386
        },
        "id": "YMEJdJUvENn9",
        "outputId": "98aff350-ecba-486c-a5f7-9b7f6a2c0f0b"
      },
      "source": [
        "df_cek = df.loc[(df['Response'] == 1)]\r\n",
        "# print(df_cek['Annual_Premium'].max())\r\n",
        "sns.displot(df_cek['Age'])"
      ],
      "execution_count": 32,
      "outputs": [
        {
          "output_type": "execute_result",
          "data": {
            "text/plain": [
              "<seaborn.axisgrid.FacetGrid at 0x7f0e95a9cb38>"
            ]
          },
          "metadata": {
            "tags": []
          },
          "execution_count": 32
        },
        {
          "output_type": "display_data",
          "data": {
            "image/png": "[encoded data removed]",
            "text/plain": [
              "<Figure size 360x360 with 1 Axes>"
            ]
          },
          "metadata": {
            "tags": [],
            "needs_background": "light"
          }
        }
      ]
    },
    {
      "cell_type": "code",
      "metadata": {
        "colab": {
          "base_uri": "https://localhost:8080/",
          "height": 386
        },
        "id": "oKiukvWgEVM_",
        "outputId": "b04cbf2a-51f2-4bbb-b795-aa4ee06c955d"
      },
      "source": [
        "df_cek = df.loc[(df['Response'] == 0)]\r\n",
        "# print(df_cek['Annual_Premium'].max())\r\n",
        "sns.displot(df_cek['Age'])"
      ],
      "execution_count": 33,
      "outputs": [
        {
          "output_type": "execute_result",
          "data": {
            "text/plain": [
              "<seaborn.axisgrid.FacetGrid at 0x7f0e9457f198>"
            ]
          },
          "metadata": {
            "tags": []
          },
          "execution_count": 33
        },
        {
          "output_type": "display_data",
          "data": {
            "image/png": "[encoded data removed]",
            "text/plain": [
              "<Figure size 360x360 with 1 Axes>"
            ]
          },
          "metadata": {
            "tags": [],
            "needs_background": "light"
          }
        }
      ]
    },
    {
      "cell_type": "code",
      "metadata": {
        "colab": {
          "base_uri": "https://localhost:8080/",
          "height": 297
        },
        "id": "umx6xgI0TmRY",
        "outputId": "cd80caac-4fb0-4337-a768-7d674b78a942"
      },
      "source": [
        "# fig, ax = plt.subplots(figsize=(18, 8))\r\n",
        "df_cek = df.loc[(df['Response'] == 1)]\r\n",
        "# print(df_cek.groupby(['Policy_Sales_Channel']).n)\r\n",
        "sns.barplot(x=df_cek.groupby(['Vehicle_Damage']).agg(['count'])[('Age', 'count')].index, y=df_cek.groupby(['Vehicle_Damage']).agg(['count'])[('Age', 'count')].values)"
      ],
      "execution_count": 225,
      "outputs": [
        {
          "output_type": "execute_result",
          "data": {
            "text/plain": [
              "<matplotlib.axes._subplots.AxesSubplot at 0x7f0e8b6dbe80>"
            ]
          },
          "metadata": {
            "tags": []
          },
          "execution_count": 225
        },
        {
          "output_type": "display_data",
          "data": {
            "image/png": "[encoded data removed]",
            "text/plain": [
              "<Figure size 432x288 with 1 Axes>"
            ]
          },
          "metadata": {
            "tags": [],
            "needs_background": "light"
          }
        }
      ]
    },
    {
      "cell_type": "code",
      "metadata": {
        "colab": {
          "base_uri": "https://localhost:8080/",
          "height": 633
        },
        "id": "QsBEy7nOzYWK",
        "outputId": "1fbded97-1c7c-4574-d84c-f8c274deb449"
      },
      "source": [
        "fig, ax = plt.subplots(figsize=(18, 8))\r\n",
        "df_cek = df.loc[(df['Response'] == 1)]\r\n",
        "print(df_cek.groupby(['Policy_Sales_Channel']).agg(['count']).nlargest(5, columns=[('Age', 'count')]))\r\n",
        "sns.barplot(x=df_cek.groupby(['Policy_Sales_Channel']).agg(['count'])[('Age', 'count')].nlargest(5).index, y=df_cek.groupby(['Policy_Sales_Channel']).agg(['count'])[('Age', 'count')].nlargest(5).values, ax=ax)"
      ],
      "execution_count": null,
      "outputs": [
        {
          "output_type": "stream",
          "text": [
            "                         id Gender    Age  ... Annual_Premium Vintage Response\n",
            "                      count  count  count  ...          count   count    count\n",
            "Policy_Sales_Channel                       ...                                \n",
            "26.0                  15891  15891  15891  ...          15891   15891    15891\n",
            "124.0                 13996  13996  13996  ...          13996   13996    13996\n",
            "152.0                  3858   3858   3858  ...           3858    3858     3858\n",
            "156.0                  2297   2297   2297  ...           2297    2297     2297\n",
            "157.0                  1794   1794   1794  ...           1794    1794     1794\n",
            "\n",
            "[5 rows x 11 columns]\n"
          ],
          "name": "stdout"
        },
        {
          "output_type": "execute_result",
          "data": {
            "text/plain": [
              "<matplotlib.axes._subplots.AxesSubplot at 0x7f0e8b8fc7f0>"
            ]
          },
          "metadata": {
            "tags": []
          },
          "execution_count": 219
        },
        {
          "output_type": "display_data",
          "data": {
            "image/png": "[encoded data removed]",
            "text/plain": [
              "<Figure size 1296x576 with 1 Axes>"
            ]
          },
          "metadata": {
            "tags": [],
            "needs_background": "light"
          }
        }
      ]
    },
    {
      "cell_type": "code",
      "metadata": {
        "colab": {
          "base_uri": "https://localhost:8080/",
          "height": 415
        },
        "id": "1SuLd-746fuD",
        "outputId": "a98dd6d4-8cea-4bc3-8af0-ec5eb506cc2d"
      },
      "source": [
        "# fig = plt.figure(figsize=(20,8))\r\n",
        "df_cek = df.loc[(df['Age'] >= 40) & (df['Age'] <= 50) & (df['Policy_Sales_Channel'] == 26) & (df['Previously_Insured'] == 0) & (df['Vehicle_Damage'] == 'Yes') & (df['Vehicle_Age'] == '< 1 Year')]\r\n",
        "# print(df_cek.groupby(['Response']).count().sort_values(['id']))\r\n",
        "print(df_cek.groupby(['Response']).agg(['count']))\r\n",
        "sns.barplot(x=df_cek.groupby(['Response']).agg(['count'])[('Gender', 'count')].index, y=df_cek.groupby(['Response']).agg(['count'])[('Gender', 'count')].values)"
      ],
      "execution_count": 20,
      "outputs": [
        {
          "output_type": "stream",
          "text": [
            "            id Gender   Age  ... Annual_Premium Policy_Sales_Channel Vintage\n",
            "         count  count count  ...          count                count   count\n",
            "Response                     ...                                            \n",
            "0           17     17    17  ...             17                   17      17\n",
            "1           31     31    31  ...             31                   31      31\n",
            "\n",
            "[2 rows x 11 columns]\n"
          ],
          "name": "stdout"
        },
        {
          "output_type": "execute_result",
          "data": {
            "text/plain": [
              "<matplotlib.axes._subplots.AxesSubplot at 0x7fcf435e8f60>"
            ]
          },
          "metadata": {
            "tags": []
          },
          "execution_count": 20
        },
        {
          "output_type": "display_data",
          "data": {
            "image/png": "[encoded data removed]",
            "text/plain": [
              "<Figure size 432x288 with 1 Axes>"
            ]
          },
          "metadata": {
            "tags": [],
            "needs_background": "light"
          }
        }
      ]
    },
    {
      "cell_type": "markdown",
      "metadata": {
        "id": "2zfHR1Z7k5m9"
      },
      "source": [
        "Kesimpulan karakteristik pelanggan yang menerima tawaran:\r\n",
        "- Berumur antara 40 - 50 tahun\r\n",
        "- Dihubungi melalui media berkode 26\r\n",
        "- Belum memiliki asuransi kendaraan\r\n",
        "- Pernah mengalami kerusakan pada kendaraaan\r\n",
        "- Umur kendaraan kurang dari 1 tahun"
      ]
    },
    {
      "cell_type": "markdown",
      "metadata": {
        "id": "Xa0JhfK67fkW"
      },
      "source": [
        "# Encoding"
      ]
    },
    {
      "cell_type": "markdown",
      "metadata": {
        "id": "wxl2Ayvreg6b"
      },
      "source": [
        "Encode categorical columns untuk mengubah string menjadi numerik"
      ]
    },
    {
      "cell_type": "code",
      "metadata": {
        "colab": {
          "base_uri": "https://localhost:8080/",
          "height": 224
        },
        "id": "hFa3JUv0TE6L",
        "outputId": "dc4f3328-403c-4d7b-8a02-cd38ce6ea0e6"
      },
      "source": [
        "df['Vehicle_Age'].replace({'< 1 Year': int(0), '1-2 Year': int(1), '> 2 Years': int(2)}, inplace=True)\r\n",
        "df['Vehicle_Damage'].replace({'Yes': 1, 'No': 0}, inplace=True)\r\n",
        "df['Gender'].replace({'Male': 0, 'Female': 1}, inplace=True)\r\n",
        "df.head()"
      ],
      "execution_count": 6,
      "outputs": [
        {
          "output_type": "execute_result",
          "data": {
            "text/html": [
              "<div>\n",
              "<style scoped>\n",
              "    .dataframe tbody tr th:only-of-type {\n",
              "        vertical-align: middle;\n",
              "    }\n",
              "\n",
              "    .dataframe tbody tr th {\n",
              "        vertical-align: top;\n",
              "    }\n",
              "\n",
              "    .dataframe thead th {\n",
              "        text-align: right;\n",
              "    }\n",
              "</style>\n",
              "<table border=\"1\" class=\"dataframe\">\n",
              "  <thead>\n",
              "    <tr style=\"text-align: right;\">\n",
              "      <th></th>\n",
              "      <th>id</th>\n",
              "      <th>Gender</th>\n",
              "      <th>Age</th>\n",
              "      <th>Driving_License</th>\n",
              "      <th>Region_Code</th>\n",
              "      <th>Previously_Insured</th>\n",
              "      <th>Vehicle_Age</th>\n",
              "      <th>Vehicle_Damage</th>\n",
              "      <th>Annual_Premium</th>\n",
              "      <th>Policy_Sales_Channel</th>\n",
              "      <th>Vintage</th>\n",
              "      <th>Response</th>\n",
              "    </tr>\n",
              "  </thead>\n",
              "  <tbody>\n",
              "    <tr>\n",
              "      <th>0</th>\n",
              "      <td>1</td>\n",
              "      <td>0</td>\n",
              "      <td>44</td>\n",
              "      <td>1</td>\n",
              "      <td>28.0</td>\n",
              "      <td>0</td>\n",
              "      <td>2</td>\n",
              "      <td>1</td>\n",
              "      <td>40454.0</td>\n",
              "      <td>26.0</td>\n",
              "      <td>217</td>\n",
              "      <td>1</td>\n",
              "    </tr>\n",
              "    <tr>\n",
              "      <th>1</th>\n",
              "      <td>2</td>\n",
              "      <td>0</td>\n",
              "      <td>76</td>\n",
              "      <td>1</td>\n",
              "      <td>3.0</td>\n",
              "      <td>0</td>\n",
              "      <td>1</td>\n",
              "      <td>0</td>\n",
              "      <td>33536.0</td>\n",
              "      <td>26.0</td>\n",
              "      <td>183</td>\n",
              "      <td>0</td>\n",
              "    </tr>\n",
              "    <tr>\n",
              "      <th>2</th>\n",
              "      <td>3</td>\n",
              "      <td>0</td>\n",
              "      <td>47</td>\n",
              "      <td>1</td>\n",
              "      <td>28.0</td>\n",
              "      <td>0</td>\n",
              "      <td>2</td>\n",
              "      <td>1</td>\n",
              "      <td>38294.0</td>\n",
              "      <td>26.0</td>\n",
              "      <td>27</td>\n",
              "      <td>1</td>\n",
              "    </tr>\n",
              "    <tr>\n",
              "      <th>3</th>\n",
              "      <td>4</td>\n",
              "      <td>0</td>\n",
              "      <td>21</td>\n",
              "      <td>1</td>\n",
              "      <td>11.0</td>\n",
              "      <td>1</td>\n",
              "      <td>0</td>\n",
              "      <td>0</td>\n",
              "      <td>28619.0</td>\n",
              "      <td>152.0</td>\n",
              "      <td>203</td>\n",
              "      <td>0</td>\n",
              "    </tr>\n",
              "    <tr>\n",
              "      <th>4</th>\n",
              "      <td>5</td>\n",
              "      <td>1</td>\n",
              "      <td>29</td>\n",
              "      <td>1</td>\n",
              "      <td>41.0</td>\n",
              "      <td>1</td>\n",
              "      <td>0</td>\n",
              "      <td>0</td>\n",
              "      <td>27496.0</td>\n",
              "      <td>152.0</td>\n",
              "      <td>39</td>\n",
              "      <td>0</td>\n",
              "    </tr>\n",
              "  </tbody>\n",
              "</table>\n",
              "</div>"
            ],
            "text/plain": [
              "   id  Gender  Age  ...  Policy_Sales_Channel  Vintage  Response\n",
              "0   1       0   44  ...                  26.0      217         1\n",
              "1   2       0   76  ...                  26.0      183         0\n",
              "2   3       0   47  ...                  26.0       27         1\n",
              "3   4       0   21  ...                 152.0      203         0\n",
              "4   5       1   29  ...                 152.0       39         0\n",
              "\n",
              "[5 rows x 12 columns]"
            ]
          },
          "metadata": {
            "tags": []
          },
          "execution_count": 6
        }
      ]
    },
    {
      "cell_type": "markdown",
      "metadata": {
        "id": "YwvVaHZ5lOKF"
      },
      "source": [
        "Korelasi antara setiap fitur dengan response"
      ]
    },
    {
      "cell_type": "code",
      "metadata": {
        "colab": {
          "base_uri": "https://localhost:8080/",
          "height": 504
        },
        "id": "yNztJKeIQVLs",
        "outputId": "e27419cb-35ff-4f9a-e2c9-4f92ac04a3e2"
      },
      "source": [
        "fig, ax = plt.subplots(figsize=(10, 8))\r\n",
        "sns.heatmap(df.corr()[['Response']], vmin=-1, vmax=1, annot=True, ax=ax)"
      ],
      "execution_count": 13,
      "outputs": [
        {
          "output_type": "execute_result",
          "data": {
            "text/plain": [
              "<matplotlib.axes._subplots.AxesSubplot at 0x7f0e9770a400>"
            ]
          },
          "metadata": {
            "tags": []
          },
          "execution_count": 13
        },
        {
          "output_type": "display_data",
          "data": {
            "image/png": "[encoded data removed]",
            "text/plain": [
              "<Figure size 720x576 with 2 Axes>"
            ]
          },
          "metadata": {
            "tags": [],
            "needs_background": "light"
          }
        }
      ]
    },
    {
      "cell_type": "markdown",
      "metadata": {
        "id": "H0N_IsjWiAfV"
      },
      "source": [
        "# Column Dropping (Feature Selection)"
      ]
    },
    {
      "cell_type": "markdown",
      "metadata": {
        "id": "4nZm4dynac6K"
      },
      "source": [
        "Dari heatmap korelasi, kota dapat men-drop beberapa kolom yg memiliki korelasi sangat rendah terhadap `Response`. Beberapa kolom yang di-drop:\r\n",
        "- id\r\n",
        "- Driving_License\r\n",
        "- Region_Code\r\n",
        "- Vintage"
      ]
    },
    {
      "cell_type": "code",
      "metadata": {
        "id": "-pDwcu8zZuDy"
      },
      "source": [
        "df.drop(columns=['id', 'Driving_License', 'Region_Code', 'Vintage', 'Annual_Premium', 'Gender'], inplace=True)"
      ],
      "execution_count": 7,
      "outputs": []
    },
    {
      "cell_type": "code",
      "metadata": {
        "colab": {
          "base_uri": "https://localhost:8080/",
          "height": 204
        },
        "id": "7bwfWRjLbJ8l",
        "outputId": "95f9e18f-bcfa-4ab3-bf35-ab087afeb240"
      },
      "source": [
        "df.head()"
      ],
      "execution_count": 258,
      "outputs": [
        {
          "output_type": "execute_result",
          "data": {
            "text/html": [
              "<div>\n",
              "<style scoped>\n",
              "    .dataframe tbody tr th:only-of-type {\n",
              "        vertical-align: middle;\n",
              "    }\n",
              "\n",
              "    .dataframe tbody tr th {\n",
              "        vertical-align: top;\n",
              "    }\n",
              "\n",
              "    .dataframe thead th {\n",
              "        text-align: right;\n",
              "    }\n",
              "</style>\n",
              "<table border=\"1\" class=\"dataframe\">\n",
              "  <thead>\n",
              "    <tr style=\"text-align: right;\">\n",
              "      <th></th>\n",
              "      <th>Age</th>\n",
              "      <th>Previously_Insured</th>\n",
              "      <th>Vehicle_Age</th>\n",
              "      <th>Vehicle_Damage</th>\n",
              "      <th>Policy_Sales_Channel</th>\n",
              "      <th>Response</th>\n",
              "    </tr>\n",
              "  </thead>\n",
              "  <tbody>\n",
              "    <tr>\n",
              "      <th>0</th>\n",
              "      <td>44</td>\n",
              "      <td>0</td>\n",
              "      <td>2</td>\n",
              "      <td>1</td>\n",
              "      <td>26.0</td>\n",
              "      <td>1</td>\n",
              "    </tr>\n",
              "    <tr>\n",
              "      <th>1</th>\n",
              "      <td>76</td>\n",
              "      <td>0</td>\n",
              "      <td>1</td>\n",
              "      <td>0</td>\n",
              "      <td>26.0</td>\n",
              "      <td>0</td>\n",
              "    </tr>\n",
              "    <tr>\n",
              "      <th>2</th>\n",
              "      <td>47</td>\n",
              "      <td>0</td>\n",
              "      <td>2</td>\n",
              "      <td>1</td>\n",
              "      <td>26.0</td>\n",
              "      <td>1</td>\n",
              "    </tr>\n",
              "    <tr>\n",
              "      <th>3</th>\n",
              "      <td>21</td>\n",
              "      <td>1</td>\n",
              "      <td>0</td>\n",
              "      <td>0</td>\n",
              "      <td>152.0</td>\n",
              "      <td>0</td>\n",
              "    </tr>\n",
              "    <tr>\n",
              "      <th>4</th>\n",
              "      <td>29</td>\n",
              "      <td>1</td>\n",
              "      <td>0</td>\n",
              "      <td>0</td>\n",
              "      <td>152.0</td>\n",
              "      <td>0</td>\n",
              "    </tr>\n",
              "  </tbody>\n",
              "</table>\n",
              "</div>"
            ],
            "text/plain": [
              "   Age  Previously_Insured  ...  Policy_Sales_Channel  Response\n",
              "0   44                   0  ...                  26.0         1\n",
              "1   76                   0  ...                  26.0         0\n",
              "2   47                   0  ...                  26.0         1\n",
              "3   21                   1  ...                 152.0         0\n",
              "4   29                   1  ...                 152.0         0\n",
              "\n",
              "[5 rows x 6 columns]"
            ]
          },
          "metadata": {
            "tags": []
          },
          "execution_count": 258
        }
      ]
    },
    {
      "cell_type": "markdown",
      "metadata": {
        "id": "bUN51DsKiI4I"
      },
      "source": [
        "# Normalization"
      ]
    },
    {
      "cell_type": "code",
      "metadata": {
        "colab": {
          "base_uri": "https://localhost:8080/"
        },
        "id": "9QIfvN-rf9qO",
        "outputId": "bde2d938-5cec-4690-ea34-6ff1c80de13e"
      },
      "source": [
        "X, y = df.iloc[:, :-1], df.iloc[:, -1]\r\n",
        "scaler = MinMaxScaler()\r\n",
        "X_scaled = scaler.fit_transform(X)\r\n",
        "X_scaled"
      ],
      "execution_count": 8,
      "outputs": [
        {
          "output_type": "execute_result",
          "data": {
            "text/plain": [
              "array([[0.36923077, 0.        , 1.        , 1.        , 0.15432099],\n",
              "       [0.86153846, 0.        , 0.5       , 0.        , 0.15432099],\n",
              "       [0.41538462, 0.        , 1.        , 1.        , 0.15432099],\n",
              "       ...,\n",
              "       [0.01538462, 1.        , 0.        , 0.        , 0.98148148],\n",
              "       [0.73846154, 0.        , 1.        , 1.        , 0.75925926],\n",
              "       [0.4       , 0.        , 0.5       , 0.        , 0.15432099]])"
            ]
          },
          "metadata": {
            "tags": []
          },
          "execution_count": 8
        }
      ]
    },
    {
      "cell_type": "markdown",
      "metadata": {
        "id": "ey3cpz6ei4C6"
      },
      "source": [
        "# Data Splitting"
      ]
    },
    {
      "cell_type": "markdown",
      "metadata": {
        "id": "nX4x2gaklb82"
      },
      "source": [
        "Undersampling untuk menyeimbangkan data."
      ]
    },
    {
      "cell_type": "code",
      "metadata": {
        "colab": {
          "base_uri": "https://localhost:8080/"
        },
        "id": "MbiBoOsCYSV-",
        "outputId": "0561f8b7-669a-4767-f134-027e264931b2"
      },
      "source": [
        "rus = RandomUnderSampler(random_state=42)\n",
        "X_under, y_under = rus.fit_resample(X_scaled, y)"
      ],
      "execution_count": 9,
      "outputs": [
        {
          "output_type": "stream",
          "text": [
            "/usr/local/lib/python3.6/dist-packages/sklearn/utils/deprecation.py:87: FutureWarning: Function safe_indexing is deprecated; safe_indexing is deprecated in version 0.22 and will be removed in version 0.24.\n",
            "  warnings.warn(msg, category=FutureWarning)\n"
          ],
          "name": "stderr"
        }
      ]
    },
    {
      "cell_type": "markdown",
      "metadata": {
        "id": "z5DLjcLkjhxn"
      },
      "source": [
        "Splitting dengan beberapa proporsi. Penamaan variable contoh `X_train75` = data X training dengan proporsi 75% dari total data"
      ]
    },
    {
      "cell_type": "code",
      "metadata": {
        "colab": {
          "base_uri": "https://localhost:8080/"
        },
        "id": "fusbMPTmivMS",
        "outputId": "0bc3c89e-1085-4fb7-a33f-e8aeacc71846"
      },
      "source": [
        "X_train70, X_test30, y_train70, y_test30 = train_test_split(X_under, y_under, random_state=42, test_size=0.3)\r\n",
        "X_train50, X_test50, y_train50, y_test50 = train_test_split(X_under, y_under, random_state=42, test_size=0.5)\r\n",
        "X_train60, X_test40, y_train60, y_test40 = train_test_split(X_under, y_under, random_state=42, test_size=0.4)\r\n",
        "print(len(X_train70), len(X_test30))\r\n",
        "print(len(X_train60), len(X_test40))\r\n"
      ],
      "execution_count": 10,
      "outputs": [
        {
          "output_type": "stream",
          "text": [
            "65394 28026\n",
            "56052 37368\n"
          ],
          "name": "stdout"
        }
      ]
    },
    {
      "cell_type": "code",
      "metadata": {
        "colab": {
          "base_uri": "https://localhost:8080/"
        },
        "id": "VcokdIdS9zyc",
        "outputId": "d2929ccd-e366-4dab-b4f9-1f5cc9507ef1"
      },
      "source": [
        "print(len(X_under), len(y_under))\r\n",
        "print(len(X_test25), len(y_test25))"
      ],
      "execution_count": null,
      "outputs": [
        {
          "output_type": "stream",
          "text": [
            "93420 93420\n",
            "23355 23355\n"
          ],
          "name": "stdout"
        }
      ]
    },
    {
      "cell_type": "markdown",
      "metadata": {
        "id": "ZYXrcecfky-7"
      },
      "source": [
        "# Model Training"
      ]
    },
    {
      "cell_type": "markdown",
      "metadata": {
        "id": "8wtCmrfAmnsr"
      },
      "source": [
        "## SVM"
      ]
    },
    {
      "cell_type": "code",
      "metadata": {
        "id": "lMGxEEqgkOL1"
      },
      "source": [
        "param_grid_svm = {\r\n",
        "  'C'    : [1, 100, 10, 0.1],\r\n",
        "  'gamma': [0.1, 0.01, 1.0],\r\n",
        "  'kernel': ['linear', 'rbf'],\r\n",
        "}\r\n",
        "# grid_svm = GridSearchCV(estimator=SVC(), param_grid=param_grid_svm)\r\n",
        "# grid_svm.fit(X_train75, y_train75)\r\n",
        "# grid_svm.cv_results_"
      ],
      "execution_count": null,
      "outputs": []
    },
    {
      "cell_type": "code",
      "metadata": {
        "colab": {
          "base_uri": "https://localhost:8080/"
        },
        "id": "Oa-r71GZ70yq",
        "outputId": "96bc85bb-18a0-4c0f-9d72-8c3fe2372d40"
      },
      "source": [
        "best_f1 = float('-inf')\r\n",
        "best_svm = None\r\n",
        "for kernel in param_grid_svm['kernel']:\r\n",
        "  for c in param_grid_svm['C']:\r\n",
        "    for gamma in param_grid_svm['gamma']:\r\n",
        "      print('\\nKernel: ', kernel, ' C: ', c, ' gamma: ', gamma)\r\n",
        "      svm = thundersvm.SVC(kernel=kernel, C=c, gamma=gamma)\r\n",
        "      print('Training...')\r\n",
        "      start = time.process_time()\r\n",
        "      svm.fit(X_train75, y_train75)\r\n",
        "      elapsed_time = time.process_time() - start\r\n",
        "      \r\n",
        "      preds = svm.predict(X_test25)\r\n",
        "      f1 = f1_score(y_test25, preds)\r\n",
        "      acc = accuracy_score(y_test25, preds)\r\n",
        "      if f1 > best_f1:\r\n",
        "        best_f1 = f1\r\n",
        "        best_svm = svm\r\n",
        "      print('Result:')\r\n",
        "      print('f1-score: ', f1, ' acc: ', acc, ' elapsed time: %.2fs' % elapsed_time)\r\n",
        "      print()\r\n",
        "print('best f1: %.2f' % best_f1)"
      ],
      "execution_count": null,
      "outputs": [
        {
          "output_type": "stream",
          "text": [
            "\n",
            "Kernel:  linear  C:  1  gamma:  0.1\n",
            "Training...\n",
            "Result:\n",
            "f1-score:  0.8192242711815665  acc:  0.7846713765788911  elapsed time: 4.75s\n",
            "\n",
            "\n",
            "Kernel:  linear  C:  1  gamma:  0.01\n",
            "Training...\n",
            "Result:\n",
            "f1-score:  0.8192242711815665  acc:  0.7846713765788911  elapsed time: 4.42s\n",
            "\n",
            "\n",
            "Kernel:  linear  C:  1  gamma:  1.0\n",
            "Training...\n",
            "Result:\n",
            "f1-score:  0.8192242711815665  acc:  0.7846713765788911  elapsed time: 4.44s\n",
            "\n",
            "\n",
            "Kernel:  linear  C:  100  gamma:  0.1\n",
            "Training...\n",
            "Result:\n",
            "f1-score:  0.8192242711815665  acc:  0.7846713765788911  elapsed time: 42.95s\n",
            "\n",
            "\n",
            "Kernel:  linear  C:  100  gamma:  0.01\n",
            "Training...\n",
            "Result:\n",
            "f1-score:  0.8192242711815665  acc:  0.7846713765788911  elapsed time: 42.96s\n",
            "\n",
            "\n",
            "Kernel:  linear  C:  100  gamma:  1.0\n",
            "Training...\n",
            "Result:\n",
            "f1-score:  0.8192242711815665  acc:  0.7846713765788911  elapsed time: 43.04s\n",
            "\n",
            "\n",
            "Kernel:  linear  C:  10  gamma:  0.1\n",
            "Training...\n",
            "Result:\n",
            "f1-score:  0.8192242711815665  acc:  0.7846713765788911  elapsed time: 7.03s\n",
            "\n",
            "\n",
            "Kernel:  linear  C:  10  gamma:  0.01\n",
            "Training...\n",
            "Result:\n",
            "f1-score:  0.8192242711815665  acc:  0.7846713765788911  elapsed time: 7.01s\n",
            "\n",
            "\n",
            "Kernel:  linear  C:  10  gamma:  1.0\n",
            "Training...\n",
            "Result:\n",
            "f1-score:  0.8192242711815665  acc:  0.7846713765788911  elapsed time: 7.00s\n",
            "\n",
            "\n",
            "Kernel:  linear  C:  0.1  gamma:  0.1\n",
            "Training...\n",
            "Result:\n",
            "f1-score:  0.8192242711815665  acc:  0.7846713765788911  elapsed time: 1.74s\n",
            "\n",
            "\n",
            "Kernel:  linear  C:  0.1  gamma:  0.01\n",
            "Training...\n",
            "Result:\n",
            "f1-score:  0.8192242711815665  acc:  0.7846713765788911  elapsed time: 1.74s\n",
            "\n",
            "\n",
            "Kernel:  linear  C:  0.1  gamma:  1.0\n",
            "Training...\n",
            "Result:\n",
            "f1-score:  0.8192242711815665  acc:  0.7846713765788911  elapsed time: 1.74s\n",
            "\n",
            "\n",
            "Kernel:  rbf  C:  1  gamma:  0.1\n",
            "Training...\n",
            "Result:\n",
            "f1-score:  0.8164083473529729  acc:  0.7803896381931064  elapsed time: 2.60s\n",
            "\n",
            "\n",
            "Kernel:  rbf  C:  1  gamma:  0.01\n",
            "Training...\n",
            "Result:\n",
            "f1-score:  0.8187663900563998  acc:  0.7839862984371655  elapsed time: 1.83s\n",
            "\n",
            "\n",
            "Kernel:  rbf  C:  1  gamma:  1.0\n",
            "Training...\n",
            "Result:\n",
            "f1-score:  0.8192831721609088  acc:  0.7847570113466067  elapsed time: 5.97s\n",
            "\n",
            "\n",
            "Kernel:  rbf  C:  100  gamma:  0.1\n",
            "Training...\n",
            "Result:\n",
            "f1-score:  0.8192831721609088  acc:  0.7847570113466067  elapsed time: 12.54s\n",
            "\n",
            "\n",
            "Kernel:  rbf  C:  100  gamma:  0.01\n",
            "Training...\n",
            "Result:\n",
            "f1-score:  0.8162914713145557  acc:  0.780218368657675  elapsed time: 4.51s\n",
            "\n",
            "\n",
            "Kernel:  rbf  C:  100  gamma:  1.0\n",
            "Training...\n",
            "Result:\n",
            "f1-score:  0.8192831721609088  acc:  0.7847570113466067  elapsed time: 70.00s\n",
            "\n",
            "\n",
            "Kernel:  rbf  C:  10  gamma:  0.1\n",
            "Training...\n",
            "Result:\n",
            "f1-score:  0.8157951212533086  acc:  0.7794904731320916  elapsed time: 6.02s\n",
            "\n",
            "\n",
            "Kernel:  rbf  C:  10  gamma:  0.01\n",
            "Training...\n",
            "Result:\n",
            "f1-score:  0.8141226818830242  acc:  0.7768357953329051  elapsed time: 3.34s\n",
            "\n",
            "\n",
            "Kernel:  rbf  C:  10  gamma:  1.0\n",
            "Training...\n",
            "Result:\n",
            "f1-score:  0.8192831721609088  acc:  0.7847570113466067  elapsed time: 29.11s\n",
            "\n",
            "\n",
            "Kernel:  rbf  C:  0.1  gamma:  0.1\n",
            "Training...\n",
            "Result:\n",
            "f1-score:  0.8141384598922853  acc:  0.776878612716763  elapsed time: 1.79s\n",
            "\n",
            "\n",
            "Kernel:  rbf  C:  0.1  gamma:  0.01\n",
            "Training...\n",
            "Result:\n",
            "f1-score:  0.8122978496534565  acc:  0.7738813958467138  elapsed time: 1.34s\n",
            "\n",
            "\n",
            "Kernel:  rbf  C:  0.1  gamma:  1.0\n",
            "Training...\n",
            "Result:\n",
            "f1-score:  0.8192831721609088  acc:  0.7847570113466067  elapsed time: 2.23s\n",
            "\n",
            "best f1: 0.82\n"
          ],
          "name": "stdout"
        }
      ]
    },
    {
      "cell_type": "markdown",
      "metadata": {
        "id": "RJp9Dhe5IB-d"
      },
      "source": [
        "## KNN"
      ]
    },
    {
      "cell_type": "code",
      "metadata": {
        "id": "3eblHFuAmdIl"
      },
      "source": [
        "param_grid_knn = {\r\n",
        "    'n': [3, 5, 7, 11, 31],\r\n",
        "    'weight': ['uniform', 'distance'],\r\n",
        "    'metric': ['euclidean', 'manhattan', 'chebyshev']\r\n",
        "}"
      ],
      "execution_count": 239,
      "outputs": []
    },
    {
      "cell_type": "code",
      "metadata": {
        "colab": {
          "base_uri": "https://localhost:8080/"
        },
        "id": "WeAIvDi-J8u0",
        "outputId": "c625bc26-9310-42e6-8ede-0bc83cf967d8"
      },
      "source": [
        "best_auc = float('-inf')\r\n",
        "best_knn = None\r\n",
        "for n in param_grid_knn['n']:\r\n",
        "  for weight in param_grid_knn['weight']:\r\n",
        "    for metric in param_grid_knn['metric']:\r\n",
        "      print('\\nn_neighbor: ', n, ' weight: ', weight, ' metric: ', metric)\r\n",
        "      knn = KNeighborsClassifier(n_neighbors=n, weights=weight, metric=metric)\r\n",
        "      print('Training...')\r\n",
        "      \r\n",
        "      start = time.process_time()\r\n",
        "      knn.fit(X_train50, y_train50)\r\n",
        "      elapsed_time = time.process_time() - start\r\n",
        "\r\n",
        "      preds = knn.predict(X_test50)\r\n",
        "      f1 = f1_score(y_test50, preds)\r\n",
        "      auc = roc_auc_score(y_test50, preds)\r\n",
        "      if f1 > best_auc:\r\n",
        "        best_auc = auc\r\n",
        "        best_f1 = f1\r\n",
        "        best_knn = knn\r\n",
        "        best_time = elapsed_time\r\n",
        "      print('Result:')\r\n",
        "      print('f1-score: ', f1, ' acc: ', auc, ' elapsed time: %.2fs' % elapsed_time)\r\n",
        "      print()\r\n",
        "\r\n",
        "print('best accuracy: ', best_auc, ' best f1: ', best_f1, ' time: %.2fs' % best_time)"
      ],
      "execution_count": 245,
      "outputs": [
        {
          "output_type": "stream",
          "text": [
            "\n",
            "n_neighbor:  3  weight:  uniform  metric:  euclidean\n",
            "Training...\n",
            "Result:\n",
            "f1-score:  0.7550023895110852  acc:  0.7475714137497544  elapsed time: 1.77s\n",
            "\n",
            "\n",
            "n_neighbor:  3  weight:  uniform  metric:  manhattan\n",
            "Training...\n",
            "Result:\n",
            "f1-score:  0.7548173862431662  acc:  0.7474857606485981  elapsed time: 1.75s\n",
            "\n",
            "\n",
            "n_neighbor:  3  weight:  uniform  metric:  chebyshev\n",
            "Training...\n",
            "Result:\n",
            "f1-score:  0.7547805121383439  acc:  0.7474215391560145  elapsed time: 1.74s\n",
            "\n",
            "\n",
            "n_neighbor:  3  weight:  distance  metric:  euclidean\n",
            "Training...\n",
            "Result:\n",
            "f1-score:  0.7522556390977443  acc:  0.7460511702039613  elapsed time: 1.87s\n",
            "\n",
            "\n",
            "n_neighbor:  3  weight:  distance  metric:  manhattan\n",
            "Training...\n",
            "Result:\n",
            "f1-score:  0.7521563877112007  acc:  0.7459441276607847  elapsed time: 1.75s\n",
            "\n",
            "\n",
            "n_neighbor:  3  weight:  distance  metric:  chebyshev\n",
            "Training...\n",
            "Result:\n",
            "f1-score:  0.7521206802891646  acc:  0.7460083363200698  elapsed time: 1.74s\n",
            "\n",
            "\n",
            "n_neighbor:  5  weight:  uniform  metric:  euclidean\n",
            "Training...\n",
            "Result:\n",
            "f1-score:  0.7870021716175561  acc:  0.7711228687429438  elapsed time: 1.81s\n",
            "\n",
            "\n",
            "n_neighbor:  5  weight:  uniform  metric:  manhattan\n",
            "Training...\n",
            "Result:\n",
            "f1-score:  0.7871306840805925  acc:  0.7711014921342221  elapsed time: 1.74s\n",
            "\n",
            "\n",
            "n_neighbor:  5  weight:  uniform  metric:  chebyshev\n",
            "Training...\n",
            "Result:\n",
            "f1-score:  0.786968815962404  acc:  0.7709730308157711  elapsed time: 1.77s\n",
            "\n",
            "\n",
            "n_neighbor:  5  weight:  distance  metric:  euclidean\n",
            "Training...\n",
            "Result:\n",
            "f1-score:  0.7825562943173373  acc:  0.7682537281868942  elapsed time: 1.72s\n",
            "\n",
            "\n",
            "n_neighbor:  5  weight:  distance  metric:  manhattan\n",
            "Training...\n",
            "Result:\n",
            "f1-score:  0.7825877342761294  acc:  0.7682965437375021  elapsed time: 1.73s\n",
            "\n",
            "\n",
            "n_neighbor:  5  weight:  distance  metric:  chebyshev\n",
            "Training...\n",
            "Result:\n",
            "f1-score:  0.7824375351490319  acc:  0.7681038719264377  elapsed time: 1.76s\n",
            "\n",
            "\n",
            "n_neighbor:  7  weight:  uniform  metric:  euclidean\n",
            "Training...\n",
            "Result:\n",
            "f1-score:  0.7920344328301963  acc:  0.7755332646211641  elapsed time: 1.84s\n",
            "\n",
            "\n",
            "n_neighbor:  7  weight:  uniform  metric:  manhattan\n",
            "Training...\n",
            "Result:\n",
            "f1-score:  0.7921683759496936  acc:  0.7757045286569244  elapsed time: 1.81s\n",
            "\n",
            "\n",
            "n_neighbor:  7  weight:  uniform  metric:  chebyshev\n",
            "Training...\n",
            "Result:\n",
            "f1-score:  0.7919327331138699  acc:  0.7753834120273646  elapsed time: 1.77s\n",
            "\n",
            "\n",
            "n_neighbor:  7  weight:  distance  metric:  euclidean\n",
            "Training...\n",
            "Result:\n",
            "f1-score:  0.7851037361049802  acc:  0.7707157781797639  elapsed time: 1.86s\n",
            "\n",
            "\n",
            "n_neighbor:  7  weight:  distance  metric:  manhattan\n",
            "Training...\n",
            "Result:\n",
            "f1-score:  0.7851277830198148  acc:  0.7708656142736082  elapsed time: 1.71s\n",
            "\n",
            "\n",
            "n_neighbor:  7  weight:  distance  metric:  chebyshev\n",
            "Training...\n",
            "Result:\n",
            "f1-score:  0.7850204704182387  acc:  0.7706729516291858  elapsed time: 1.79s\n",
            "\n",
            "\n",
            "n_neighbor:  11  weight:  uniform  metric:  euclidean\n",
            "Training...\n",
            "Result:\n",
            "f1-score:  0.8040448209893414  acc:  0.7851036915122602  elapsed time: 1.68s\n",
            "\n",
            "\n",
            "n_neighbor:  11  weight:  uniform  metric:  manhattan\n",
            "Training...\n",
            "Result:\n",
            "f1-score:  0.8040202966432474  acc:  0.785018069577686  elapsed time: 1.79s\n",
            "\n",
            "\n",
            "n_neighbor:  11  weight:  uniform  metric:  chebyshev\n",
            "Training...\n",
            "Result:\n",
            "f1-score:  0.8036411939365525  acc:  0.7848039386581237  elapsed time: 1.69s\n",
            "\n",
            "\n",
            "n_neighbor:  11  weight:  distance  metric:  euclidean\n",
            "Training...\n",
            "Result:\n",
            "f1-score:  0.7953663366336634  acc:  0.7787660531914851  elapsed time: 1.79s\n",
            "\n",
            "\n",
            "n_neighbor:  11  weight:  distance  metric:  manhattan\n",
            "Training...\n",
            "Result:\n",
            "f1-score:  0.7953762717232097  acc:  0.7786804385902246  elapsed time: 1.77s\n",
            "\n",
            "\n",
            "n_neighbor:  11  weight:  distance  metric:  chebyshev\n",
            "Training...\n",
            "Result:\n",
            "f1-score:  0.7955661124307204  acc:  0.7788945236765777  elapsed time: 1.69s\n",
            "\n",
            "\n",
            "n_neighbor:  31  weight:  uniform  metric:  euclidean\n",
            "Training...\n",
            "Result:\n",
            "f1-score:  0.816173389707843  acc:  0.7933686199421275  elapsed time: 1.78s\n",
            "\n",
            "\n",
            "n_neighbor:  31  weight:  uniform  metric:  manhattan\n",
            "Training...\n",
            "Result:\n",
            "f1-score:  0.8170327787718431  acc:  0.7942249932874516  elapsed time: 1.69s\n",
            "\n",
            "\n",
            "n_neighbor:  31  weight:  uniform  metric:  chebyshev\n",
            "Training...\n",
            "Result:\n",
            "f1-score:  0.816216936758517  acc:  0.793390035050745  elapsed time: 1.80s\n",
            "\n",
            "\n",
            "n_neighbor:  31  weight:  distance  metric:  euclidean\n",
            "Training...\n",
            "Result:\n",
            "f1-score:  0.8055313124260584  acc:  0.785339494206411  elapsed time: 1.71s\n",
            "\n",
            "\n",
            "n_neighbor:  31  weight:  distance  metric:  manhattan\n",
            "Training...\n",
            "Result:\n",
            "f1-score:  0.806017019791808  acc:  0.7857676918790433  elapsed time: 1.76s\n",
            "\n",
            "\n",
            "n_neighbor:  31  weight:  distance  metric:  chebyshev\n",
            "Training...\n",
            "Result:\n",
            "f1-score:  0.805718275982465  acc:  0.7855749834014116  elapsed time: 1.78s\n",
            "\n",
            "best accuracy:  0.7855749834014116  best f1:  0.805718275982465  time: 1.78s\n"
          ],
          "name": "stdout"
        }
      ]
    },
    {
      "cell_type": "markdown",
      "metadata": {
        "id": "2RJZz3eMxMk_"
      },
      "source": [
        "## Decision Tree"
      ]
    },
    {
      "cell_type": "code",
      "metadata": {
        "id": "tNEvIdvNxPFS"
      },
      "source": [
        "param_grid_dt = {\r\n",
        "    'criterion': ['gini', 'entropy'],\r\n",
        "    'max_depth': [None, 5, 7, 10, 20]\r\n",
        "}"
      ],
      "execution_count": 11,
      "outputs": []
    },
    {
      "cell_type": "code",
      "metadata": {
        "colab": {
          "base_uri": "https://localhost:8080/"
        },
        "id": "Hxwn3A12xS44",
        "outputId": "9abaf198-886e-4a60-9815-53b20eefa980"
      },
      "source": [
        "best_auc = float('-inf')\r\n",
        "best_f1 = float('-inf')\r\n",
        "eval_metrics = 'f1'\r\n",
        "best_dt = None\r\n",
        "for crit in param_grid_dt['criterion']:\r\n",
        "  for mdepth in param_grid_dt['max_depth']:\r\n",
        "    print('\\ncriterion: ', crit, ' max depth: ', mdepth)\r\n",
        "    dt = DecisionTreeClassifier(criterion=crit, max_depth=mdepth, random_state=42)\r\n",
        "    print('Training...')\r\n",
        "    \r\n",
        "    start = time.process_time()\r\n",
        "    dt.fit(X_train50, y_train50)\r\n",
        "    elapsed_time = time.process_time() - start\r\n",
        "\r\n",
        "    preds = dt.predict(X_test50)\r\n",
        "    f1 = f1_score(y_test50, preds)\r\n",
        "    auc = roc_auc_score(y_test50, preds)\r\n",
        "    if (f1 > best_f1):\r\n",
        "      best_f1 = f1\r\n",
        "      best_auc = auc\r\n",
        "      best_dt = dt\r\n",
        "      best_time = elapsed_time\r\n",
        "    print('Result:')\r\n",
        "    print('f1-score: ', f1, ' auc: ', auc, ' elapsed time: %.2fs' % elapsed_time)\r\n",
        "    print()\r\n",
        "\r\n",
        "print('best auc: ', best_auc, ' best f1: ', best_f1, ' time: %.2fs' % best_time)"
      ],
      "execution_count": 12,
      "outputs": [
        {
          "output_type": "stream",
          "text": [
            "\n",
            "criterion:  gini  max depth:  None\n",
            "Training...\n",
            "Result:\n",
            "f1-score:  0.8028639806958208  auc:  0.7866230972269912  elapsed time: 0.05s\n",
            "\n",
            "\n",
            "criterion:  gini  max depth:  5\n",
            "Training...\n",
            "Result:\n",
            "f1-score:  0.8167481289140063  auc:  0.7945245701420651  elapsed time: 0.03s\n",
            "\n",
            "\n",
            "criterion:  gini  max depth:  7\n",
            "Training...\n",
            "Result:\n",
            "f1-score:  0.8183894047800273  auc:  0.7956808008412426  elapsed time: 0.04s\n",
            "\n",
            "\n",
            "criterion:  gini  max depth:  10\n",
            "Training...\n",
            "Result:\n",
            "f1-score:  0.8162668564723082  auc:  0.7955304184155458  elapsed time: 0.04s\n",
            "\n",
            "\n",
            "criterion:  gini  max depth:  20\n",
            "Training...\n",
            "Result:\n",
            "f1-score:  0.8046685230167664  auc:  0.7882502293163784  elapsed time: 0.05s\n",
            "\n",
            "\n",
            "criterion:  entropy  max depth:  None\n",
            "Training...\n",
            "Result:\n",
            "f1-score:  0.802571456829196  auc:  0.78632337187278  elapsed time: 0.05s\n",
            "\n",
            "\n",
            "criterion:  entropy  max depth:  5\n",
            "Training...\n",
            "Result:\n",
            "f1-score:  0.82373772406995  auc:  0.7932850715019328  elapsed time: 0.03s\n",
            "\n",
            "\n",
            "criterion:  entropy  max depth:  7\n",
            "Training...\n",
            "Result:\n",
            "f1-score:  0.8159326399969242  auc:  0.7950166428082204  elapsed time: 0.03s\n",
            "\n",
            "\n",
            "criterion:  entropy  max depth:  10\n",
            "Training...\n",
            "Result:\n",
            "f1-score:  0.815153091700869  auc:  0.7946311745197631  elapsed time: 0.04s\n",
            "\n",
            "\n",
            "criterion:  entropy  max depth:  20\n",
            "Training...\n",
            "Result:\n",
            "f1-score:  0.8037072900816158  auc:  0.787351033087133  elapsed time: 0.05s\n",
            "\n",
            "best auc:  0.7932850715019328  best f1:  0.82373772406995  time: 0.03s\n"
          ],
          "name": "stdout"
        }
      ]
    },
    {
      "cell_type": "markdown",
      "metadata": {
        "id": "OticN-IEzGap"
      },
      "source": [
        "## MLP"
      ]
    },
    {
      "cell_type": "code",
      "metadata": {
        "colab": {
          "base_uri": "https://localhost:8080/"
        },
        "id": "p8_m-K4PyynG",
        "outputId": "2bc888f0-9788-4399-9d88-93d8f0d75328"
      },
      "source": [
        "mlp = MLPClassifier(random_state=42, hidden_layer_sizes=(256,256,256), learning_rate='adaptive', learning_rate_init=0.1)\r\n",
        "start = time.process_time()\r\n",
        "mlp.fit(X_train40, y_train60)\r\n",
        "elapsed_time = time.process_time() - start\r\n",
        "print('elapsed time: ', elapsed_time)"
      ],
      "execution_count": 265,
      "outputs": [
        {
          "output_type": "stream",
          "text": [
            "elapsed time:  174.93423360999986\n"
          ],
          "name": "stdout"
        }
      ]
    },
    {
      "cell_type": "code",
      "metadata": {
        "colab": {
          "base_uri": "https://localhost:8080/"
        },
        "id": "kmAPEEaUpNAf",
        "outputId": "441694e1-fa58-43e4-95d9-aa9abc23ee2e"
      },
      "source": [
        "preds = mlp.predict(X_test40)\r\n",
        "f1_score(y_test40, preds)"
      ],
      "execution_count": 266,
      "outputs": [
        {
          "output_type": "execute_result",
          "data": {
            "text/plain": [
              "0.810924885278889"
            ]
          },
          "metadata": {
            "tags": []
          },
          "execution_count": 266
        }
      ]
    },
    {
      "cell_type": "markdown",
      "metadata": {
        "id": "F7mHsc4Y8Vxe"
      },
      "source": [
        "# Visualisasi Prediksi"
      ]
    },
    {
      "cell_type": "code",
      "metadata": {
        "id": "7qS75uYnvIBc"
      },
      "source": [
        "def printconfusion_matrix(yAsli,yPrediksi):\n",
        "    # class_names=KELAS\n",
        "    cnf_matrix = confusion_matrix(yAsli,yPrediksi)\n",
        "    np.set_printoptions(precision=2)\n",
        "    plt.figure()\n",
        "    plot_confusion_matrix(cnf_matrix,\n",
        "                      title='Confusion matrix Decision Tree ')\n",
        "    plt.show()\n",
        "    precision, recall, fscore, support = score(yAsli,yPrediksi)\n",
        "    acc = accuracy_score(yAsli,yPrediksi)\n",
        "\n",
        "    print('precision: {}'.format(precision))\n",
        "    print('recall: {}'.format(recall))\n",
        "    print('fscore: {}'.format(fscore))\n",
        "    print('support: {}'.format(support))\n",
        "    print('accuracy: {}'.format(acc))\n",
        "    return  "
      ],
      "execution_count": 13,
      "outputs": []
    },
    {
      "cell_type": "code",
      "metadata": {
        "id": "n9i9B_V3u2zp"
      },
      "source": [
        "def plot_confusion_matrix(cm,\n",
        "                          normalize=False,\n",
        "                          title='Confusion matrix',\n",
        "                          cmap=plt.cm.Blues):\n",
        "    \"\"\"\n",
        "    This function prints and plots the confusion matrix.\n",
        "    Normalization can be applied by setting `normalize=True`.\n",
        "    \"\"\"\n",
        "    if normalize:\n",
        "        cm = cm.astype('float') / cm.sum(axis=1)[:, np.newaxis]\n",
        "        print(\"Normalized confusion matrix\")\n",
        "    else:\n",
        "        print('Confusion matrix, without normalization')\n",
        "\n",
        "    print(cm)\n",
        "    classes = [0, 1]\n",
        "    plt.imshow(cm, interpolation='nearest', cmap=cmap)\n",
        "    plt.title(title)\n",
        "    plt.colorbar()\n",
        "    tick_marks = np.arange(len(classes))\n",
        "    plt.xticks(tick_marks, classes)\n",
        "    plt.yticks(tick_marks, classes)\n",
        "\n",
        "    fmt = '.2f' if normalize else 'd'\n",
        "    thresh = cm.max() / 2.\n",
        "    for i, j in itertools.product(range(cm.shape[0]), range(cm.shape[1])):\n",
        "        plt.text(j, i, format(cm[i, j], fmt),\n",
        "                 horizontalalignment=\"center\",\n",
        "                 color=\"white\" if cm[i, j] > thresh else \"black\")\n",
        "\n",
        "    plt.tight_layout()\n",
        "    plt.ylabel('True label')\n",
        "    plt.xlabel('Predicted label')"
      ],
      "execution_count": 16,
      "outputs": []
    },
    {
      "cell_type": "markdown",
      "metadata": {
        "id": "A0VxfxGDljST"
      },
      "source": [
        "Confusion Matrix model terbaik"
      ]
    },
    {
      "cell_type": "code",
      "metadata": {
        "colab": {
          "base_uri": "https://localhost:8080/",
          "height": 617
        },
        "id": "0J-TzcF68khz",
        "outputId": "d08774a7-b1af-432a-ea50-31649352e26e"
      },
      "source": [
        "preds = best_dt.predict(X_test50)\r\n",
        "print(classification_report(y_test50, preds))\r\n",
        "print(confusion_matrix(y_test50, preds).ravel())\r\n",
        "printconfusion_matrix(y_test50, preds)"
      ],
      "execution_count": 17,
      "outputs": [
        {
          "output_type": "stream",
          "text": [
            "              precision    recall  f1-score   support\n",
            "\n",
            "           0       0.95      0.62      0.75     23356\n",
            "           1       0.72      0.97      0.82     23354\n",
            "\n",
            "    accuracy                           0.79     46710\n",
            "   macro avg       0.83      0.79      0.79     46710\n",
            "weighted avg       0.83      0.79      0.79     46710\n",
            "\n",
            "[14491  8865   791 22563]\n",
            "Confusion matrix, without normalization\n",
            "[[14491  8865]\n",
            " [  791 22563]]\n"
          ],
          "name": "stdout"
        },
        {
          "output_type": "display_data",
          "data": {
            "image/png": "[encoded data removed]",
            "text/plain": [
              "<Figure size 432x288 with 2 Axes>"
            ]
          },
          "metadata": {
            "tags": [],
            "needs_background": "light"
          }
        },
        {
          "output_type": "stream",
          "text": [
            "precision: [0.95 0.72]\n",
            "recall: [0.62 0.97]\n",
            "fscore: [0.75 0.82]\n",
            "support: [23356 23354]\n",
            "accuracy: 0.7932776707343181\n"
          ],
          "name": "stdout"
        }
      ]
    },
    {
      "cell_type": "markdown",
      "metadata": {
        "id": "oUH3kGgYlokQ"
      },
      "source": [
        "Representasi text dari model decision tree sebagai model terbaik."
      ]
    },
    {
      "cell_type": "code",
      "metadata": {
        "colab": {
          "base_uri": "https://localhost:8080/"
        },
        "id": "29tEXxxmS92N",
        "outputId": "84886d96-14b6-4119-c380-208b72c7cb7c"
      },
      "source": [
        "col = df.drop(columns=['Response']).columns\r\n",
        "text_representation = tree.export_text(best_dt, feature_names=['Gender', 'Age', 'Previously_Insured', 'Vehicle_Age', 'Vehicle_Damage', 'Policy_Sales_Channel'])\r\n",
        "print(text_representation)"
      ],
      "execution_count": 70,
      "outputs": [
        {
          "output_type": "stream",
          "text": [
            "|--- Previously_Insured <= 0.50\n",
            "|   |--- Vehicle_Damage <= 0.50\n",
            "|   |   |--- Policy_Sales_Channel <= 0.94\n",
            "|   |   |   |--- Age <= 0.61\n",
            "|   |   |   |   |--- Age <= 0.16\n",
            "|   |   |   |   |   |--- class: 0\n",
            "|   |   |   |   |--- Age >  0.16\n",
            "|   |   |   |   |   |--- class: 0\n",
            "|   |   |   |--- Age >  0.61\n",
            "|   |   |   |   |--- Age <= 0.70\n",
            "|   |   |   |   |   |--- class: 0\n",
            "|   |   |   |   |--- Age >  0.70\n",
            "|   |   |   |   |   |--- class: 0\n",
            "|   |   |--- Policy_Sales_Channel >  0.94\n",
            "|   |   |   |--- Policy_Sales_Channel <= 0.98\n",
            "|   |   |   |   |--- Policy_Sales_Channel <= 0.96\n",
            "|   |   |   |   |   |--- class: 0\n",
            "|   |   |   |   |--- Policy_Sales_Channel >  0.96\n",
            "|   |   |   |   |   |--- class: 1\n",
            "|   |   |   |--- Policy_Sales_Channel >  0.98\n",
            "|   |   |   |   |--- Policy_Sales_Channel <= 0.99\n",
            "|   |   |   |   |   |--- class: 0\n",
            "|   |   |   |   |--- Policy_Sales_Channel >  0.99\n",
            "|   |   |   |   |   |--- class: 0\n",
            "|   |--- Vehicle_Damage >  0.50\n",
            "|   |   |--- Age <= 0.12\n",
            "|   |   |   |--- Policy_Sales_Channel <= 0.92\n",
            "|   |   |   |   |--- Age <= 0.05\n",
            "|   |   |   |   |   |--- class: 1\n",
            "|   |   |   |   |--- Age >  0.05\n",
            "|   |   |   |   |   |--- class: 1\n",
            "|   |   |   |--- Policy_Sales_Channel >  0.92\n",
            "|   |   |   |   |--- Age <= 0.02\n",
            "|   |   |   |   |   |--- class: 0\n",
            "|   |   |   |   |--- Age >  0.02\n",
            "|   |   |   |   |   |--- class: 1\n",
            "|   |   |--- Age >  0.12\n",
            "|   |   |   |--- Age <= 0.61\n",
            "|   |   |   |   |--- Age <= 0.44\n",
            "|   |   |   |   |   |--- class: 1\n",
            "|   |   |   |   |--- Age >  0.44\n",
            "|   |   |   |   |   |--- class: 1\n",
            "|   |   |   |--- Age >  0.61\n",
            "|   |   |   |   |--- Age <= 0.76\n",
            "|   |   |   |   |   |--- class: 1\n",
            "|   |   |   |   |--- Age >  0.76\n",
            "|   |   |   |   |   |--- class: 1\n",
            "|--- Previously_Insured >  0.50\n",
            "|   |--- Vehicle_Damage <= 0.50\n",
            "|   |   |--- Age <= 0.19\n",
            "|   |   |   |--- Policy_Sales_Channel <= 0.93\n",
            "|   |   |   |   |--- Age <= 0.07\n",
            "|   |   |   |   |   |--- class: 0\n",
            "|   |   |   |   |--- Age >  0.07\n",
            "|   |   |   |   |   |--- class: 0\n",
            "|   |   |   |--- Policy_Sales_Channel >  0.93\n",
            "|   |   |   |   |--- Age <= 0.07\n",
            "|   |   |   |   |   |--- class: 0\n",
            "|   |   |   |   |--- Age >  0.07\n",
            "|   |   |   |   |   |--- class: 0\n",
            "|   |   |--- Age >  0.19\n",
            "|   |   |   |--- Age <= 0.33\n",
            "|   |   |   |   |--- Vehicle_Age <= 0.25\n",
            "|   |   |   |   |   |--- class: 0\n",
            "|   |   |   |   |--- Vehicle_Age >  0.25\n",
            "|   |   |   |   |   |--- class: 0\n",
            "|   |   |   |--- Age >  0.33\n",
            "|   |   |   |   |--- Policy_Sales_Channel <= 0.94\n",
            "|   |   |   |   |   |--- class: 0\n",
            "|   |   |   |   |--- Policy_Sales_Channel >  0.94\n",
            "|   |   |   |   |   |--- class: 0\n",
            "|   |--- Vehicle_Damage >  0.50\n",
            "|   |   |--- Age <= 0.59\n",
            "|   |   |   |--- Vehicle_Age <= 0.25\n",
            "|   |   |   |   |--- Policy_Sales_Channel <= 0.94\n",
            "|   |   |   |   |   |--- class: 0\n",
            "|   |   |   |   |--- Policy_Sales_Channel >  0.94\n",
            "|   |   |   |   |   |--- class: 0\n",
            "|   |   |   |--- Vehicle_Age >  0.25\n",
            "|   |   |   |   |--- Policy_Sales_Channel <= 0.75\n",
            "|   |   |   |   |   |--- class: 0\n",
            "|   |   |   |   |--- Policy_Sales_Channel >  0.75\n",
            "|   |   |   |   |   |--- class: 0\n",
            "|   |   |--- Age >  0.59\n",
            "|   |   |   |--- class: 0\n",
            "\n"
          ],
          "name": "stdout"
        }
      ]
    }
  ]
}